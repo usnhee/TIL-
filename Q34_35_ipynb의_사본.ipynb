{
  "nbformat": 4,
  "nbformat_minor": 0,
  "metadata": {
    "colab": {
      "provenance": [],
      "authorship_tag": "ABX9TyNfkY0anTqn4nDVq76dkr4B",
      "include_colab_link": true
    },
    "kernelspec": {
      "name": "python3",
      "display_name": "Python 3"
    },
    "language_info": {
      "name": "python"
    }
  },
  "cells": [
    {
      "cell_type": "markdown",
      "metadata": {
        "id": "view-in-github",
        "colab_type": "text"
      },
      "source": [
        "<a href=\"https://colab.research.google.com/github/usnhee/TIL-/blob/master/Q34_35_ipynb%EC%9D%98_%EC%82%AC%EB%B3%B8.ipynb\" target=\"_parent\"><img src=\"https://colab.research.google.com/assets/colab-badge.svg\" alt=\"Open In Colab\"/></a>"
      ]
    },
    {
      "cell_type": "markdown",
      "source": [
        "# Q.34 에라스토테네스의 체 \n",
        "\n",
        "에라스토테네스의 체는 N보다 작거나 같은 모든 소수를 찾는 알고리즘 중 하나입니다.\n",
        "\n",
        "이 알고리즘은 다음과 같이 동작합니다.\n",
        "\n",
        "\n",
        "2부터 N까지의 모든 수를 나열한다.\n",
        "\n",
        "나열한 수 중 지우지 않은 가장 작은 수 p를 찾는다.\n",
        "\n",
        "p를 제외한 p의 배수를 모두 제거한다.\n",
        "\n",
        "모든 수가 지워질 때 까지 2 - 3번 단계를 반복하면 구하는 구간의 모든 소수가 남게 된다.\n",
        "\n",
        "( 참고 : https://ko.wikipedia.org/wiki/에라토스테네스의_체 )\n",
        "\n",
        "\n",
        "\n",
        "N을 입력받고 에라스토테네스의 체를 사용하여 2부터 N까지의 모든 소수의 개수를 출력하세요.\n",
        "\n",
        "👉 입력예시\n",
        "\n",
        "10\n",
        "\n",
        "👉 출력예시\n",
        "\n",
        "4 # 2, 3, 5, 7\n",
        "\n",
        "👉 입력예시\n",
        "\n",
        "100\n",
        "\n",
        "👉 출력예시\n",
        "\n",
        "25 #2, 3, 5, 7, 11, 13, 17, 19, 23, 29, 31, 37, ... 89, 97"
      ],
      "metadata": {
        "id": "glMoecdMJsMD"
      }
    },
    {
      "cell_type": "code",
      "execution_count": null,
      "metadata": {
        "colab": {
          "base_uri": "https://localhost:8080/"
        },
        "id": "1tEQw4HeJp5X",
        "outputId": "921d346c-6229-4e06-da2b-e5618ddd9b3c"
      },
      "outputs": [
        {
          "output_type": "stream",
          "name": "stdout",
          "text": [
            "10\n",
            "4\n"
          ]
        }
      ],
      "source": [
        "num = int(input())\n",
        "\n",
        "def filter(n):\n",
        "  # 숫자담을 리스트\n",
        "  n_list=[]\n",
        "  for i in range(2,n+1):\n",
        "    n_list.append(i)\n",
        "  \n",
        "  p_list = []\n",
        "  for j in range(2,n+1):\n",
        "    for k in n_list[j:]:\n",
        "      if k%j==0 :\n",
        "        n_list.remove(k)\n",
        "  return n_list\n",
        "\n",
        "\n",
        "print(len(filter(num)))"
      ]
    },
    {
      "cell_type": "markdown",
      "source": [
        "# Q.35 소수만들기\n",
        "\n",
        "양의 정수 N을 입력받아, N을 한자리씩 분해하고 조합하여 만들 수 있는 소수의 개수는 몇개인지 출력하세요.\n",
        "\n",
        "👉 입력예시\n",
        "\n",
        "17\n",
        "\n",
        "👉 출력예시\n",
        "\n",
        "3 # 7, 17, 71\n",
        "\n"
      ],
      "metadata": {
        "id": "9MrS9JggTZdh"
      }
    },
    {
      "cell_type": "code",
      "source": [
        "number=input()\n",
        "\n",
        "# 자릿수 떼어서 리스트에 저장\n",
        "lst=[]\n",
        "for i in range(len(number)):\n",
        "  lst.append(int(i))\n",
        "\n",
        "# 소수판별 함수\n",
        "def isprime(n):\n",
        "  for i in range(2,n):\n",
        "    if n%i==0:\n",
        "      return False\n",
        "  return True\n",
        "\n",
        "\n",
        "# 자릿수 떼어서 리스트에 저장\n",
        "# 우선 string으로 저장함 <-자릿수때문에\n",
        "lst=[]\n",
        "for i in range(len(number)):\n",
        "  lst.append(i)\n",
        "\n",
        "lst=[]\n",
        "for i in range(len(lst)):\n",
        "  tmp=[]\n",
        "  for j in lst[i:]:\n",
        "    tmp.append(lst[i]+j)\n",
        "    tmp.append(j+lst[i])\n",
        "  lst2.append(tmp) \n",
        "\n",
        "## int 변환\n",
        "int_lst=[]\n",
        "for i in range(len(lst)):\n",
        "  int_lst.append(int(lst[i]))\n",
        "\n",
        "# 중복제거\n",
        "\n",
        "int_lst=set(int_lst)\n",
        "\n",
        "primes=[]\n",
        "for j in range(len(int_lst)):\n",
        "  if int_lst[j]>=2 and isprime(int_lst[j]):\n",
        "    primes.append(int_lst[j])\n",
        "\n",
        "print(primes)"
      ],
      "metadata": {
        "colab": {
          "base_uri": "https://localhost:8080/"
        },
        "id": "AsC-xb9RTrCJ",
        "outputId": "5149713e-d8aa-4f5a-d475-93db09303ef6"
      },
      "execution_count": null,
      "outputs": [
        {
          "output_type": "stream",
          "name": "stdout",
          "text": [
            "17\n",
            "[]\n"
          ]
        }
      ]
    },
    {
      "cell_type": "code",
      "source": [
        "def isprime(n):\n",
        "  for i in range(2,n):\n",
        "    if n%i==0:\n",
        "      return False\n",
        "  return True"
      ],
      "metadata": {
        "id": "Nr83SwpJWEmk"
      },
      "execution_count": null,
      "outputs": []
    }
  ]
}