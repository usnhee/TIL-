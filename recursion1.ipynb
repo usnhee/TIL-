{
 "cells": [
  {
   "cell_type": "code",
   "execution_count": 2,
   "metadata": {},
   "outputs": [
    {
     "name": "stdout",
     "output_type": "stream",
     "text": [
      "opening the box!\n",
      "opening the box!\n",
      "opening the box!\n",
      "opening the box!\n",
      "opening the box!\n",
      "put a ring in it\n",
      "closed the box\n",
      "closed the box\n",
      "closed the box\n",
      "closed the box\n"
     ]
    }
   ],
   "source": [
    "# 재귀1\n",
    "def openBox() : \n",
    "    global count\n",
    "    print('opening the box!')\n",
    "    \n",
    "    count -= 1 \n",
    "    if count == 0  :\n",
    "        print('put a ring in it')\n",
    "        return\n",
    "    openBox()\n",
    "    print(\"closed the box\")\n",
    "\n",
    "    return\n",
    "\n",
    "\n",
    "#main\n",
    "count = 5\n",
    "openBox()"
   ]
  },
  {
   "cell_type": "code",
   "execution_count": 3,
   "metadata": {},
   "outputs": [
    {
     "name": "stdout",
     "output_type": "stream",
     "text": [
      "55\n"
     ]
    }
   ],
   "source": [
    "def addNumber(num) : \n",
    "    if num <= 1 : \n",
    "        return 1\n",
    "    return num + addNumber(num-1)\n",
    "\n",
    "print(addNumber(10))"
   ]
  },
  {
   "cell_type": "code",
   "execution_count": 4,
   "metadata": {},
   "outputs": [
    {
     "name": "stdout",
     "output_type": "stream",
     "text": [
      "5\n",
      "4\n",
      "3\n",
      "2\n",
      "1\n",
      "launch!!!!!\n"
     ]
    }
   ],
   "source": [
    "def countDown(n) : \n",
    "    if n == 0 : \n",
    "        print(\"launch!!!!!\")\n",
    "        \n",
    "    else : \n",
    "        print(n)\n",
    "        countDown(n-1)\n",
    "\n",
    "countDown(5)"
   ]
  },
  {
   "cell_type": "code",
   "execution_count": 7,
   "metadata": {},
   "outputs": [
    {
     "name": "stdout",
     "output_type": "stream",
     "text": [
      "☆\n",
      "☆☆\n",
      "☆☆☆\n",
      "☆☆☆☆\n",
      "☆☆☆☆☆\n"
     ]
    }
   ],
   "source": [
    "def printStar(n) : \n",
    "    if n != 0 :\n",
    "        \n",
    "        printStar(n-1)\n",
    "        print('☆'*n)\n",
    "\n",
    "printStar(5)"
   ]
  },
  {
   "cell_type": "code",
   "execution_count": 9,
   "metadata": {},
   "outputs": [],
   "source": [
    "def gugu(dan, num) : \n",
    "    print(\"%d x %d = %d\" %(dan, num, dan*num))\n",
    "    if num <9 :\n",
    "        gugu(dan, num+1)\n",
    "    \n",
    "for dan in range(2,10) : \n",
    "    print(\"### %d단 ###\" %dan)\n",
    "    gugu(dan,1)\n",
    "\n",
    "gugu()"
   ]
  }
 ],
 "metadata": {
  "interpreter": {
   "hash": "b2175d25d486a1aea0c4aada00ccf97fc3dc912815c910d75b0e3440d20dd4b0"
  },
  "kernelspec": {
   "display_name": "Python 3.9.9 64-bit (windows store)",
   "language": "python",
   "name": "python3"
  },
  "language_info": {
   "codemirror_mode": {
    "name": "ipython",
    "version": 3
   },
   "file_extension": ".py",
   "mimetype": "text/x-python",
   "name": "python",
   "nbconvert_exporter": "python",
   "pygments_lexer": "ipython3",
   "version": "3.9.9"
  },
  "orig_nbformat": 4
 },
 "nbformat": 4,
 "nbformat_minor": 2
}
