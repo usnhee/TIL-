{
  "nbformat": 4,
  "nbformat_minor": 0,
  "metadata": {
    "colab": {
      "provenance": [],
      "collapsed_sections": [],
      "authorship_tag": "ABX9TyOzfn4GoANh+NFvsidtRYIP",
      "include_colab_link": true
    },
    "kernelspec": {
      "name": "python3",
      "display_name": "Python 3"
    },
    "language_info": {
      "name": "python"
    }
  },
  "cells": [
    {
      "cell_type": "markdown",
      "metadata": {
        "id": "view-in-github",
        "colab_type": "text"
      },
      "source": [
        "<a href=\"https://colab.research.google.com/github/usnhee/TIL-/blob/master/%ED%8C%90%EB%8B%A4%EC%8A%A4%EC%98%88%EC%A0%9C1%EC%B0%A8.ipynb\" target=\"_parent\"><img src=\"https://colab.research.google.com/assets/colab-badge.svg\" alt=\"Open In Colab\"/></a>"
      ]
    },
    {
      "cell_type": "markdown",
      "source": [
        "1-1. 딕셔너리-> 시리즈 변환"
      ],
      "metadata": {
        "id": "292lK2gTMKw7"
      }
    },
    {
      "cell_type": "code",
      "execution_count": 2,
      "metadata": {
        "colab": {
          "base_uri": "https://localhost:8080/"
        },
        "id": "_DpIsJQfKlAM",
        "outputId": "f63ff35d-9d59-4992-e12c-f83f5c971de4"
      },
      "outputs": [
        {
          "output_type": "stream",
          "name": "stdout",
          "text": [
            "<class 'pandas.core.series.Series'>\n",
            "\n",
            "\n",
            "a    1\n",
            "b    2\n",
            "c    3\n",
            "dtype: int64\n"
          ]
        }
      ],
      "source": [
        "import pandas as pd\n",
        "dict_data = {'a':1,'b':2, 'c':3}\n",
        "\n",
        "sr = pd.Series(dict_data)\n",
        "\n",
        "print(type(sr))\n",
        "print('\\n')\n",
        "\n",
        "print(sr)"
      ]
    },
    {
      "cell_type": "markdown",
      "source": [
        "1-2. 시리즈 인덱스 "
      ],
      "metadata": {
        "id": "VOCMfElrMqTa"
      }
    },
    {
      "cell_type": "code",
      "source": [
        "import pandas as pd\n",
        "\n",
        "list_data = ['2019-01-02', 3.14, 'ABC', 100, True]\n",
        "sr = pd.Series(list_data)\n",
        "print(sr)\n",
        "\n",
        "idx = sr.index\n",
        "val = sr.values\n",
        "print(idx)\n",
        "print('\\n')\n",
        "print(val)"
      ],
      "metadata": {
        "colab": {
          "base_uri": "https://localhost:8080/"
        },
        "id": "2_iGEpESMthZ",
        "outputId": "28fdd033-f3de-45c6-bc78-f545dc728a47"
      },
      "execution_count": 5,
      "outputs": [
        {
          "output_type": "stream",
          "name": "stdout",
          "text": [
            "0    2019-01-02\n",
            "1          3.14\n",
            "2           ABC\n",
            "3           100\n",
            "4          True\n",
            "dtype: object\n",
            "RangeIndex(start=0, stop=5, step=1)\n",
            "\n",
            "\n",
            "['2019-01-02' 3.14 'ABC' 100 True]\n"
          ]
        }
      ]
    },
    {
      "cell_type": "markdown",
      "source": [
        "1-3. 시리즈 원소 선택 "
      ],
      "metadata": {
        "id": "tj6nRU6QNe16"
      }
    },
    {
      "cell_type": "code",
      "source": [
        "tup_data = ('영인','2010-05-01','여',True)\n",
        "sr = pd.Series(tup_data, index=['이름','생년월일','성별','학생여부'])\n",
        "print(sr)\n",
        "\n",
        "print(sr[0])\n",
        "print(sr['이름'])\n",
        "\n",
        "print(sr[[1,2]])\n",
        "print('\\n')\n",
        "print(sr[['생년월일','성별']])\n",
        "\n",
        "print(sr[1:2])\n",
        "print('\\n')\n",
        "print(sr['생년월일':'성별'])"
      ],
      "metadata": {
        "colab": {
          "base_uri": "https://localhost:8080/"
        },
        "id": "pWEF6so5N3Om",
        "outputId": "debe9ed5-1ea4-4123-b246-e4e138368d7e"
      },
      "execution_count": 10,
      "outputs": [
        {
          "output_type": "stream",
          "name": "stdout",
          "text": [
            "이름              영인\n",
            "생년월일    2010-05-01\n",
            "성별               여\n",
            "학생여부          True\n",
            "dtype: object\n",
            "영인\n",
            "영인\n",
            "생년월일    2010-05-01\n",
            "성별               여\n",
            "dtype: object\n",
            "\n",
            "\n",
            "생년월일    2010-05-01\n",
            "성별               여\n",
            "dtype: object\n",
            "생년월일    2010-05-01\n",
            "dtype: object\n",
            "\n",
            "\n",
            "생년월일    2010-05-01\n",
            "성별               여\n",
            "dtype: object\n"
          ]
        }
      ]
    },
    {
      "cell_type": "markdown",
      "source": [
        "1-4. 딕셔너리->데이터프레임 변환"
      ],
      "metadata": {
        "id": "HWLUPQR0N5NQ"
      }
    },
    {
      "cell_type": "code",
      "source": [
        "dict_data = {'c0':[1,2,3], 'c1':[4,5,6],'c2':[7,8,9],'c3':[10,11,12],'c4':[13,14,15]}\n",
        "\n",
        "df = pd.DataFrame(dict_data)\n",
        "\n",
        "print(type(df))\n",
        "print('\\n')\n",
        "print(df)"
      ],
      "metadata": {
        "colab": {
          "base_uri": "https://localhost:8080/"
        },
        "id": "CBDw2LyhN5mo",
        "outputId": "ea11016e-a121-4e6c-eae4-223040e31682"
      },
      "execution_count": 11,
      "outputs": [
        {
          "output_type": "stream",
          "name": "stdout",
          "text": [
            "<class 'pandas.core.frame.DataFrame'>\n",
            "\n",
            "\n",
            "   c0  c1  c2  c3  c4\n",
            "0   1   4   7  10  13\n",
            "1   2   5   8  11  14\n",
            "2   3   6   9  12  15\n"
          ]
        }
      ]
    },
    {
      "cell_type": "markdown",
      "source": [
        "1-5. 행 인덱스, 열 이름 설정"
      ],
      "metadata": {
        "id": "gtyvneKiQwkw"
      }
    },
    {
      "cell_type": "code",
      "source": [
        "df = pd.DataFrame([[15,'남','덕영중'],[17,'여','수리중']],\\\n",
        "                  index=['중서','예은'],\\\n",
        "                  columns=['age','sex','school'])\n",
        "\n",
        "print(df)\n",
        "print('\\n')\n",
        "print(df.columns)\n",
        "print('\\n')\n",
        "print(df.index)\n",
        "print('\\n')\n",
        "\n",
        "\n",
        "df.index=['학생1','학생2']\n",
        "df.columns=['연령','남녀','소속']\n",
        "\n",
        "print(df)\n",
        "print('\\n')\n",
        "print(df.columns)\n",
        "print('\\n')\n",
        "print(df.index)\n",
        "print('\\n')"
      ],
      "metadata": {
        "colab": {
          "base_uri": "https://localhost:8080/"
        },
        "id": "YbxKAsrYQ1wy",
        "outputId": "26161676-28de-4736-8bd0-a2413d971ac8"
      },
      "execution_count": 14,
      "outputs": [
        {
          "output_type": "stream",
          "name": "stdout",
          "text": [
            "    age sex school\n",
            "중서   15   남    덕영중\n",
            "예은   17   여    수리중\n",
            "\n",
            "\n",
            "Index(['age', 'sex', 'school'], dtype='object')\n",
            "\n",
            "\n",
            "Index(['중서', '예은'], dtype='object')\n",
            "\n",
            "\n",
            "     연령 남녀   소속\n",
            "학생1  15  남  덕영중\n",
            "학생2  17  여  수리중\n",
            "\n",
            "\n",
            "Index(['연령', '남녀', '소속'], dtype='object')\n",
            "\n",
            "\n",
            "Index(['학생1', '학생2'], dtype='object')\n",
            "\n",
            "\n"
          ]
        }
      ]
    },
    {
      "cell_type": "markdown",
      "source": [
        "1-6. 행인덱스, 열이름 변경"
      ],
      "metadata": {
        "id": "f0YAnqIJQ18k"
      }
    },
    {
      "cell_type": "code",
      "source": [
        "df = pd.DataFrame([[15,'남','덕영중'],[17,'여','수리중']],\\\n",
        "                  index=['준서','예은'],\\\n",
        "                  columns=['나이','성별','학교'])\n",
        "print(df)\n",
        "print('\\n')\n",
        "\n",
        "df.rename(columns={'나이':'연령', '성별':'남여', '학교':'소속'},inplace=True)\n",
        "\n",
        "df.rename(index={'준서':'학생1','예은':'학생2'},inplace=True)\n",
        "\n",
        "print(df)"
      ],
      "metadata": {
        "colab": {
          "base_uri": "https://localhost:8080/"
        },
        "id": "TFlSbA76Q2E-",
        "outputId": "c829c986-c08f-4619-c3c9-c30413d04dc0"
      },
      "execution_count": 15,
      "outputs": [
        {
          "output_type": "stream",
          "name": "stdout",
          "text": [
            "    나이 성별   학교\n",
            "준서  15  남  덕영중\n",
            "예은  17  여  수리중\n",
            "\n",
            "\n",
            "     연령 남여   소속\n",
            "학생1  15  남  덕영중\n",
            "학생2  17  여  수리중\n"
          ]
        }
      ]
    },
    {
      "cell_type": "markdown",
      "source": [
        "1-7. 행 삭제 \n",
        " \n",
        " - drop() : 행 삭제 (default) \n",
        " - 열 삭제 시 : axis=1 "
      ],
      "metadata": {
        "id": "oije5eO7Srgy"
      }
    },
    {
      "cell_type": "code",
      "source": [
        "exam_data = {'수학':[90,80,70],'영어':[98,89,95],\\\n",
        "             '음악':[85,95,100], '체육':[100,90,90]}\n",
        "\n",
        "df = pd.DataFrame(exam_data,index=['서준','우현','인아'])\n",
        "print(df)\n",
        "print('\\n')\n",
        "\n",
        "df2=df[:]\n",
        "df2.drop('우현',inplace=True)\n",
        "print(df2)\n",
        "print('\\n')\n",
        "\n",
        "df3=df[:]\n",
        "df3.drop(['우현','인아'],axis=0,inplace=True)\n",
        "print(df3)\n"
      ],
      "metadata": {
        "colab": {
          "base_uri": "https://localhost:8080/"
        },
        "id": "f33h5VAxSrno",
        "outputId": "d3703679-e31d-4c8c-c5b5-2e7e69f39aba"
      },
      "execution_count": 17,
      "outputs": [
        {
          "output_type": "stream",
          "name": "stdout",
          "text": [
            "    수학  영어   음악   체육\n",
            "서준  90  98   85  100\n",
            "우현  80  89   95   90\n",
            "인아  70  95  100   90\n",
            "\n",
            "\n",
            "    수학  영어   음악   체육\n",
            "서준  90  98   85  100\n",
            "인아  70  95  100   90\n",
            "\n",
            "\n",
            "    수학  영어  음악   체육\n",
            "서준  90  98  85  100\n"
          ]
        },
        {
          "output_type": "stream",
          "name": "stderr",
          "text": [
            "/usr/local/lib/python3.7/dist-packages/pandas/core/frame.py:4913: SettingWithCopyWarning: \n",
            "A value is trying to be set on a copy of a slice from a DataFrame\n",
            "\n",
            "See the caveats in the documentation: https://pandas.pydata.org/pandas-docs/stable/user_guide/indexing.html#returning-a-view-versus-a-copy\n",
            "  errors=errors,\n",
            "/usr/local/lib/python3.7/dist-packages/pandas/core/frame.py:4913: SettingWithCopyWarning: \n",
            "A value is trying to be set on a copy of a slice from a DataFrame\n",
            "\n",
            "See the caveats in the documentation: https://pandas.pydata.org/pandas-docs/stable/user_guide/indexing.html#returning-a-view-versus-a-copy\n",
            "  errors=errors,\n"
          ]
        }
      ]
    },
    {
      "cell_type": "markdown",
      "source": [
        "1-8. 열삭제 "
      ],
      "metadata": {
        "id": "5BajTdu0U8S5"
      }
    },
    {
      "cell_type": "code",
      "source": [
        "df4 = df.copy()\n",
        "df4.drop('수학',axis=1,inplace=True)\n",
        "print(df4)\n",
        "print('\\n')\n",
        "\n",
        "df5 = df.copy()\n",
        "df5.drop(['영어','음악'],axis=1,inplace=True)\n",
        "print(df5)"
      ],
      "metadata": {
        "colab": {
          "base_uri": "https://localhost:8080/"
        },
        "id": "6q6R1I3NUZ40",
        "outputId": "39e67536-6b8e-4a90-a598-a3aaacb3e30c"
      },
      "execution_count": 18,
      "outputs": [
        {
          "output_type": "stream",
          "name": "stdout",
          "text": [
            "    영어   음악   체육\n",
            "서준  98   85  100\n",
            "우현  89   95   90\n",
            "인아  95  100   90\n",
            "\n",
            "\n",
            "    수학   체육\n",
            "서준  90  100\n",
            "우현  80   90\n",
            "인아  70   90\n"
          ]
        }
      ]
    },
    {
      "cell_type": "markdown",
      "source": [
        "1-9. 행 선택"
      ],
      "metadata": {
        "id": "qDKLR_RfVjqh"
      }
    },
    {
      "cell_type": "code",
      "source": [
        "label1 = df.loc['서준']\n",
        "position1=df.iloc[0]\n",
        "print(label1)\n",
        "print('\\n')\n",
        "print(position1)\n",
        "\n",
        "label2=df.loc[['서준','우현']]\n",
        "position2=df.iloc[[0,1]]\n",
        "print(label2)\n",
        "print('\\n')\n",
        "print(position2)\n",
        "\n",
        "label3=df.loc['서준':'우현']\n",
        "position3=df.iloc[0:1]\n"
      ],
      "metadata": {
        "colab": {
          "base_uri": "https://localhost:8080/"
        },
        "id": "Y2Y53v6sVjyl",
        "outputId": "5de15521-77f3-4fe2-fa29-0c4aa5343410"
      },
      "execution_count": 19,
      "outputs": [
        {
          "output_type": "stream",
          "name": "stdout",
          "text": [
            "수학     90\n",
            "영어     98\n",
            "음악     85\n",
            "체육    100\n",
            "Name: 서준, dtype: int64\n",
            "\n",
            "\n",
            "수학     90\n",
            "영어     98\n",
            "음악     85\n",
            "체육    100\n",
            "Name: 서준, dtype: int64\n",
            "    수학  영어  음악   체육\n",
            "서준  90  98  85  100\n",
            "우현  80  89  95   90\n",
            "\n",
            "\n",
            "    수학  영어  음악   체육\n",
            "서준  90  98  85  100\n",
            "우현  80  89  95   90\n"
          ]
        }
      ]
    },
    {
      "cell_type": "markdown",
      "source": [
        "1-10. 열선택"
      ],
      "metadata": {
        "id": "mO0Qljn1YfxL"
      }
    },
    {
      "cell_type": "code",
      "source": [
        "exam_data = {'이름':['서준','우현','인아'], '수학':[90,80,70],\\\n",
        "             '영어':[98,89,95],\\\n",
        "             '음악':[85,95,100], '체육':[100,90,90]}\n",
        "\n",
        "df = pd.DataFrame(exam_data)\n",
        "\n",
        "\n",
        "math1 = df['수학']\n",
        "print(math1)\n",
        "print(type(math1))\n",
        "print('\\n')\n",
        "\n",
        "eng = df.영어\n",
        "print(eng)\n",
        "print(type(eng))\n",
        "\n",
        "music_gym=df[['음악','체육']]   ##  이중괄호: dataframe\n",
        "print(music_gym)\n",
        "print(type(music_gym))\n",
        "print('\\n')\n",
        "\n",
        "math2=df[['수학']]\n",
        "print(math2)\n",
        "print(type(math2))"
      ],
      "metadata": {
        "colab": {
          "base_uri": "https://localhost:8080/"
        },
        "id": "cSbZOoAYYf7L",
        "outputId": "c61b955c-205b-4a14-a536-3aa4af85da84"
      },
      "execution_count": 23,
      "outputs": [
        {
          "output_type": "stream",
          "name": "stdout",
          "text": [
            "0    90\n",
            "1    80\n",
            "2    70\n",
            "Name: 수학, dtype: int64\n",
            "<class 'pandas.core.series.Series'>\n",
            "\n",
            "\n",
            "0    98\n",
            "1    89\n",
            "2    95\n",
            "Name: 영어, dtype: int64\n",
            "<class 'pandas.core.series.Series'>\n",
            "    음악   체육\n",
            "0   85  100\n",
            "1   95   90\n",
            "2  100   90\n",
            "<class 'pandas.core.frame.DataFrame'>\n",
            "\n",
            "\n",
            "   수학\n",
            "0  90\n",
            "1  80\n",
            "2  70\n",
            "<class 'pandas.core.frame.DataFrame'>\n"
          ]
        }
      ]
    },
    {
      "cell_type": "markdown",
      "source": [
        "1-11, 원소 선택 "
      ],
      "metadata": {
        "id": "79NBiQcPZ5pg"
      }
    },
    {
      "cell_type": "code",
      "source": [
        "exam_data = {'이름':['서준','우현','인아'], '수학':[90,80,70],\\\n",
        "             '영어':[98,89,95],\\\n",
        "             '음악':[85,95,100], '체육':[100,90,90]}\n",
        "\n",
        "df = pd.DataFrame(exam_data)\n",
        "\n",
        "df.set_index('이름',inplace=True)\n",
        "print(df)\n",
        "\n",
        "a = df.loc['서준','음악']\n",
        "print(a)\n",
        "b=df.iloc[0,2]\n",
        "print(b)\n",
        "\n",
        "c=df.loc['서준',['음악','체육']]\n",
        "print(c)\n",
        "d=df.iloc[0,[2,3]]\n",
        "print(d)\n",
        "e=df.loc['서준','음악':'체육']\n",
        "print(e)\n",
        "f=df.iloc[0,2:]"
      ],
      "metadata": {
        "colab": {
          "base_uri": "https://localhost:8080/"
        },
        "id": "k4v1j3qbZ5z6",
        "outputId": "945c3838-ef3e-474b-f031-b89d1c2607c8"
      },
      "execution_count": 27,
      "outputs": [
        {
          "output_type": "stream",
          "name": "stdout",
          "text": [
            "    수학  영어   음악   체육\n",
            "이름                  \n",
            "서준  90  98   85  100\n",
            "우현  80  89   95   90\n",
            "인아  70  95  100   90\n",
            "85\n",
            "85\n",
            "음악     85\n",
            "체육    100\n",
            "Name: 서준, dtype: int64\n",
            "음악     85\n",
            "체육    100\n",
            "Name: 서준, dtype: int64\n",
            "음악     85\n",
            "체육    100\n",
            "Name: 서준, dtype: int64\n"
          ]
        }
      ]
    },
    {
      "cell_type": "code",
      "source": [
        "g=df.loc[['서준','우현'],['음악','체육']]\n",
        "print(g)\n",
        "h=df.iloc[[0,1],[2,3]]\n",
        "print(h)\n",
        "i=df.loc['서준':'우현','음악':'체육']\n",
        "print(i)\n",
        "j=df.iloc[0:2,2:]\n",
        "print(j)"
      ],
      "metadata": {
        "colab": {
          "base_uri": "https://localhost:8080/"
        },
        "id": "gpr9udX_bdYf",
        "outputId": "1c0569a8-4e03-4457-859e-99516bf4c4b7"
      },
      "execution_count": 29,
      "outputs": [
        {
          "output_type": "stream",
          "name": "stdout",
          "text": [
            "    음악   체육\n",
            "이름         \n",
            "서준  85  100\n",
            "우현  95   90\n",
            "    음악   체육\n",
            "이름         \n",
            "서준  85  100\n",
            "우현  95   90\n",
            "    음악   체육\n",
            "이름         \n",
            "서준  85  100\n",
            "우현  95   90\n",
            "    음악   체육\n",
            "이름         \n",
            "서준  85  100\n",
            "우현  95   90\n"
          ]
        }
      ]
    },
    {
      "cell_type": "markdown",
      "source": [
        "1-12. 열추가"
      ],
      "metadata": {
        "id": "cN-mMqJ9b-Dy"
      }
    },
    {
      "cell_type": "code",
      "source": [
        "df['국어']=80"
      ],
      "metadata": {
        "id": "i_VbO7W7cAO1"
      },
      "execution_count": 30,
      "outputs": []
    },
    {
      "cell_type": "markdown",
      "source": [
        "1-13. 행추가 "
      ],
      "metadata": {
        "id": "QqTVxNKScLd-"
      }
    },
    {
      "cell_type": "code",
      "source": [
        "df.loc[3] = 0\n",
        "\n",
        "df.loc[4]=['동규',90,80,70,60]\n",
        "\n",
        "df.loc['행5']=df.loc[3]\n",
        "print(df)"
      ],
      "metadata": {
        "colab": {
          "base_uri": "https://localhost:8080/"
        },
        "id": "E-a8i9y7cI1G",
        "outputId": "4610c808-9f4f-41b2-8286-3f6123084270"
      },
      "execution_count": 31,
      "outputs": [
        {
          "output_type": "stream",
          "name": "stdout",
          "text": [
            "    수학  영어   음악   체육  국어\n",
            "이름                      \n",
            "서준  90  98   85  100  80\n",
            "우현  80  89   95   90  80\n",
            "인아  70  95  100   90  80\n",
            "3    0   0    0    0   0\n",
            "4   동규  90   80   70  60\n",
            "행5   0   0    0    0   0\n"
          ]
        }
      ]
    }
  ]
}