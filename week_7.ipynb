{
  "nbformat": 4,
  "nbformat_minor": 0,
  "metadata": {
    "colab": {
      "provenance": [],
      "authorship_tag": "ABX9TyPkoj6ndG0mrQjV/txq1ulG",
      "include_colab_link": true
    },
    "kernelspec": {
      "name": "python3",
      "display_name": "Python 3"
    },
    "language_info": {
      "name": "python"
    }
  },
  "cells": [
    {
      "cell_type": "markdown",
      "metadata": {
        "id": "view-in-github",
        "colab_type": "text"
      },
      "source": [
        "<a href=\"https://colab.research.google.com/github/usnhee/TIL-/blob/master/week_7.ipynb\" target=\"_parent\"><img src=\"https://colab.research.google.com/assets/colab-badge.svg\" alt=\"Open In Colab\"/></a>"
      ]
    },
    {
      "cell_type": "code",
      "execution_count": 2,
      "metadata": {
        "colab": {
          "base_uri": "https://localhost:8080/"
        },
        "id": "B95ztGXks-P8",
        "outputId": "a6a349d2-580d-42b0-aaa3-7065f31770aa"
      },
      "outputs": [
        {
          "output_type": "stream",
          "name": "stdout",
          "text": [
            " 가로, 세로 높이 입력: 5 6 5\n",
            "40\n"
          ]
        }
      ],
      "source": [
        "## Q14 \n",
        "# 색칠된 면이 2개인 블록 갯수 구하기 \n",
        "\n",
        "w, l, h = map(int,input(' 가로, 세로 높이 입력: ').split())\n",
        "\n",
        "while(True):\n",
        "  if w<3 or l<3 or h<3:\n",
        "    continue\n",
        "  elif w>2 and l>2 and h>2:\n",
        "    result = ((w-2)+(l-2)+(h-2))*4   # 꼭짓점(3면색칠) 빼주고 중복 빼서 계산 \n",
        "    break \n",
        "print(result)"
      ]
    },
    {
      "cell_type": "code",
      "source": [
        "## Q15\n",
        "# 이진수의 합\n",
        "'''\n",
        "이진수 덧셈은 십진수보다 매우 간단합니다.\n",
        "\n",
        "아래 규칙을 가지고 입력받은 A, B 두 이진수의 합을 이진수로 표현 해 보세요.\n",
        "\n",
        "0 + 0 = 0\n",
        "1 + 0 = 1\n",
        "0 + 1 = 1\n",
        "1 + 1 = 10\n",
        "1 + 1 + 1 = 11\n",
        "'''\n",
        "a,b = input('이진수 두개 입력:').split()  ## string \n",
        "\n",
        "sum = int(a,2)+int(b,2)   ## 십진수로 변환  int('string',base)\n",
        "\n",
        "\n",
        "\n",
        "print(format(sum,'b'))"
      ],
      "metadata": {
        "colab": {
          "base_uri": "https://localhost:8080/"
        },
        "id": "B1BzXqfDufWv",
        "outputId": "1937ed65-373f-4eeb-d687-281b8f462d9c"
      },
      "execution_count": 6,
      "outputs": [
        {
          "output_type": "stream",
          "name": "stdout",
          "text": [
            "이진수 두개 입력:111 1\n",
            "1000\n"
          ]
        }
      ]
    }
  ]
}