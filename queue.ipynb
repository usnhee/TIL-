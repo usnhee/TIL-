{
 "cells": [
  {
   "cell_type": "code",
   "execution_count": 12,
   "metadata": {},
   "outputs": [
    {
     "name": "stdout",
     "output_type": "stream",
     "text": [
      "exit<== ['hwasa', 'solar', 'moonbyul', 'hwiin', None] <==door\n",
      "Bye~ hwasa See you again\n",
      "exit<== [None, 'solar', 'moonbyul', 'hwiin', None] <==door\n",
      "Bye~ solar See you again\n"
     ]
    }
   ],
   "source": [
    "#   함수\n",
    "def isQueueFull():\n",
    "    global SIZE, queue, front, rear\n",
    "    #if ( rear >= SIZE-1) :   #초기 코드 but 여러 상황을 따져봐야함. \n",
    "     #   return True\n",
    "    #else : \n",
    "     #   return False\n",
    "    if (rear != SIZE-1) :    #1. 뒷자리 남은경우\n",
    "        return False \n",
    "    elif (rear == SIZE-1) and (front== -1) :   #2. 큐 꽉찬경우 \n",
    "        return True\n",
    "    else : \n",
    "        for i in range(front+1, SIZE, 1) :  #3. 앞이 비었는데 뒤는 꽉찬 경우. scooch 해야함. \n",
    "            queue[i-1] = queue[i]\n",
    "            queue[i] = None\n",
    "        front -= 1\n",
    "        rear -= 1 \n",
    "        return False\n",
    "    \n",
    "\n",
    "def enQueue(data) : \n",
    "    global SIZE, queue, front, rear\n",
    "    if (isQueueFull()) : \n",
    "        print('The queue is Full.')\n",
    "        return\n",
    "    rear += 1 \n",
    "    queue[rear] = data \n",
    "\n",
    "def isQueueEmpty() : \n",
    "    global SIZE, queue, front, rear  \n",
    "    if (front == rear) : \n",
    "       \n",
    "        return True\n",
    "    else : \n",
    "        return False\n",
    "\n",
    "def deQueue() : \n",
    "    global SIZE, queue, front, rear\n",
    "    if ( isQueueEmpty()) : \n",
    "         print('Sorry, the queue is Empty!')\n",
    "         return None\n",
    "    front += 1 \n",
    "    data = queue[front]\n",
    "    queue[front] = None\n",
    "    return data\n",
    "\n",
    "def peek() : \n",
    "    global SIZE, queue, front, rear\n",
    "    if (isQueueEmpty()) : \n",
    "        print('Noone is here!')\n",
    "        return None\n",
    "\n",
    "    return queue[front+1]\n",
    "\n",
    "#   전역\n",
    "SIZE = 5\n",
    "queue = [None for _ in range(SIZE)]\n",
    "front = rear = -1\n",
    "\n",
    "#   메인\n",
    "queue = ['hwasa', 'solar', 'moonbyul','hwiin',None]\n",
    "front = -1\n",
    "rear = 3\n",
    "\n",
    "print('exit<==', queue, '<==door')\n",
    "retData = deQueue()\n",
    "print('Bye~', retData, 'See you again')\n",
    "\n",
    "print('exit<==', queue, '<==door')\n",
    "retData = deQueue()\n",
    "print('Bye~', retData, 'See you again')\n"
   ]
  }
 ],
 "metadata": {
  "interpreter": {
   "hash": "b2175d25d486a1aea0c4aada00ccf97fc3dc912815c910d75b0e3440d20dd4b0"
  },
  "kernelspec": {
   "display_name": "Python 3.9.9 64-bit (windows store)",
   "language": "python",
   "name": "python3"
  },
  "language_info": {
   "codemirror_mode": {
    "name": "ipython",
    "version": 3
   },
   "file_extension": ".py",
   "mimetype": "text/x-python",
   "name": "python",
   "nbconvert_exporter": "python",
   "pygments_lexer": "ipython3",
   "version": "3.9.9"
  },
  "orig_nbformat": 4
 },
 "nbformat": 4,
 "nbformat_minor": 2
}
