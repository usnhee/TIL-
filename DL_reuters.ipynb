{
  "nbformat": 4,
  "nbformat_minor": 0,
  "metadata": {
    "colab": {
      "name": "DL_reuters.ipynb",
      "provenance": [],
      "authorship_tag": "ABX9TyMAjYp9ZHp6gzSvTB5qcH0B",
      "include_colab_link": true
    },
    "kernelspec": {
      "name": "python3",
      "display_name": "Python 3"
    },
    "language_info": {
      "name": "python"
    }
  },
  "cells": [
    {
      "cell_type": "markdown",
      "metadata": {
        "id": "view-in-github",
        "colab_type": "text"
      },
      "source": [
        "<a href=\"https://colab.research.google.com/github/usnhee/TIL-/blob/master/DL_reuters.ipynb\" target=\"_parent\"><img src=\"https://colab.research.google.com/assets/colab-badge.svg\" alt=\"Open In Colab\"/></a>"
      ]
    },
    {
      "cell_type": "code",
      "execution_count": 1,
      "metadata": {
        "colab": {
          "base_uri": "https://localhost:8080/"
        },
        "id": "sugOyO_97VyV",
        "outputId": "f74b49e1-c889-47c1-8ec5-aa31925b5a8e"
      },
      "outputs": [
        {
          "output_type": "stream",
          "name": "stdout",
          "text": [
            "Downloading data from https://storage.googleapis.com/tensorflow/tf-keras-datasets/reuters.npz\n",
            "2113536/2110848 [==============================] - 0s 0us/step\n",
            "2121728/2110848 [==============================] - 0s 0us/step\n"
          ]
        }
      ],
      "source": [
        "from keras.datasets import reuters\n",
        "\n",
        "(train_data, train_labels), (test_data, test_labels) = \\\n",
        "reuters.load_data(num_words=10000)"
      ]
    },
    {
      "cell_type": "markdown",
      "source": [
        "### 로이터 뉴스를 46개의 상호배타적 토픽으로 분류 -> 다중분류 \n",
        "- 46개 토픽 \n",
        "- 각 토픽은 훈련셋에 최소 10개의 샘플 "
      ],
      "metadata": {
        "id": "o2Z_FvdK9ayj"
      }
    },
    {
      "cell_type": "code",
      "source": [
        "print(len(train_data))\n",
        "print(len(test_data))"
      ],
      "metadata": {
        "colab": {
          "base_uri": "https://localhost:8080/"
        },
        "id": "dx4KcVqF7osD",
        "outputId": "0a8aa611-9ca3-4385-eb9c-ff68f4751796"
      },
      "execution_count": 2,
      "outputs": [
        {
          "output_type": "stream",
          "name": "stdout",
          "text": [
            "8982\n",
            "2246\n"
          ]
        }
      ]
    },
    {
      "cell_type": "code",
      "source": [
        "print(train_data[0])"
      ],
      "metadata": {
        "colab": {
          "base_uri": "https://localhost:8080/"
        },
        "id": "KEsNGNKS7vCc",
        "outputId": "5021d382-a534-41cc-ff6d-d7b3681505d9"
      },
      "execution_count": 3,
      "outputs": [
        {
          "output_type": "stream",
          "name": "stdout",
          "text": [
            "[1, 2, 2, 8, 43, 10, 447, 5, 25, 207, 270, 5, 3095, 111, 16, 369, 186, 90, 67, 7, 89, 5, 19, 102, 6, 19, 124, 15, 90, 67, 84, 22, 482, 26, 7, 48, 4, 49, 8, 864, 39, 209, 154, 6, 151, 6, 83, 11, 15, 22, 155, 11, 15, 7, 48, 9, 4579, 1005, 504, 6, 258, 6, 272, 11, 15, 22, 134, 44, 11, 15, 16, 8, 197, 1245, 90, 67, 52, 29, 209, 30, 32, 132, 6, 109, 15, 17, 12]\n"
          ]
        }
      ]
    },
    {
      "cell_type": "code",
      "source": [
        "print(train_labels[0]) # 인덱스로 0~45 사이의 정수 "
      ],
      "metadata": {
        "colab": {
          "base_uri": "https://localhost:8080/"
        },
        "id": "jAxI8SIn70TM",
        "outputId": "09b6f959-0e61-4ac8-c2b7-3d21260c30f8"
      },
      "execution_count": 4,
      "outputs": [
        {
          "output_type": "stream",
          "name": "stdout",
          "text": [
            "3\n"
          ]
        }
      ]
    },
    {
      "cell_type": "markdown",
      "source": [
        "### 데이터를 벡터로 변환"
      ],
      "metadata": {
        "id": "EaVIhgqh8CTV"
      }
    },
    {
      "cell_type": "code",
      "source": [
        "import numpy as np \n",
        "\n",
        "def vectorize_sequences(seqs, dim=10000):\n",
        "  results = np.zeros((len(seqs), dim))\n",
        "  for i, seq in enumerate(seqs):\n",
        "    results[i,seq] = 1. # 특정 인덱스 위치를 1.으로 만듬\n",
        "  return results\n",
        "\n",
        "x_train = vectorize_sequences(train_data)\n",
        "x_test = vectorize_sequences(test_data)"
      ],
      "metadata": {
        "id": "qazpdKnO78Jl"
      },
      "execution_count": 7,
      "outputs": []
    },
    {
      "cell_type": "markdown",
      "source": [
        "### 레이블을 벡터로 변환 \n",
        "### one-hot-encoding이 범주형 데이터에 널리 사용됨. "
      ],
      "metadata": {
        "id": "ZiyiNpbQ9J_b"
      }
    },
    {
      "cell_type": "code",
      "source": [
        "def to_one_hot(labels, dim =46): \n",
        "  results = np.zeros((len(labels), dim))\n",
        "  for i, l in enumerate(labels):\n",
        "    results[i,l] = 1. \n",
        "  return results\n",
        "\n",
        "one_hot_train_labels = to_one_hot(train_labels)\n",
        "one_hot_test_labels = to_one_hot(test_labels)"
      ],
      "metadata": {
        "id": "u-Yt6NEy9R6i"
      },
      "execution_count": 8,
      "outputs": []
    },
    {
      "cell_type": "code",
      "source": [
        "from keras.utils.np_utils import to_categorical\n",
        "\n",
        "one_hot_train_labels = to_categorical(train_labels)\n",
        "one_hot_test_labels = to_categorical(test_labels)"
      ],
      "metadata": {
        "id": "zygjzylc-QA2"
      },
      "execution_count": 9,
      "outputs": []
    },
    {
      "cell_type": "markdown",
      "source": [
        "## 모델 구성 \n",
        "- 출력 클래스가 46개 (출력공간 차원이 큼)\n",
        "- Dense 층을 쌓으면 이전 층의 출력에서 제공한 정보만 사용가능\n",
        "- 한 층이 분류문제에서 일부 정보를 누락하면 그 다음층에서 이를 복원할 수 없음 -> 각 층은 정보의 bottleneck이 될 수 있다. \n",
        "- 중간층은 몇개로 할것인가. \n",
        "\n",
        "- 마지막 Dense층 크기: 46 \n",
        "  - 각 입력 샘플에 대해 46차원 벡터 출력. 이 벡터의 각 원소는 각기 다른 출력 클래스가 인코딩된것. \n",
        "- 마지막 층에 softmax 활성화함수 사용 \n",
        "  - 각 입력 샘플마다 46개 출력 클래스에 대한 확률분포 출력. 46차원 출력벡터를 만들며 output[i]는 어떤 샘플이 클래스i에 속할 확률. \n",
        "  - 46개 값 모두 더하면 1 "
      ],
      "metadata": {
        "id": "CKIpeffp-kCI"
      }
    },
    {
      "cell_type": "code",
      "source": [
        "from keras import models\n",
        "from keras import layers\n",
        "\n",
        "model = models.Sequential()\n",
        "model.add(layers.Dense(64, activation='relu', input_shape=(10000,)))\n",
        "model.add(layers.Dense(64, activation='relu'))\n",
        "model.add(layers.Dense(46, activation='softmax'))"
      ],
      "metadata": {
        "id": "Iv_G0OEO_z6h"
      },
      "execution_count": 10,
      "outputs": []
    },
    {
      "cell_type": "markdown",
      "source": [
        "이런 문제에 사용할 최선의 손실함수는 \n",
        "categorical_crossentropy"
      ],
      "metadata": {
        "id": "4qsb5UqqAP-n"
      }
    },
    {
      "cell_type": "code",
      "source": [
        "model.compile(optimizer='rmsprop', loss='categorical_crossentropy', metrics=['accuracy'])"
      ],
      "metadata": {
        "id": "f56ki34Q-h_t"
      },
      "execution_count": 11,
      "outputs": []
    },
    {
      "cell_type": "markdown",
      "source": [
        "훈련검증 \n",
        " - 훈련데이터에서 1000개의 샘플을 따로 떼어 검증셋으로 사용"
      ],
      "metadata": {
        "id": "Qgj-W2tBAkCj"
      }
    },
    {
      "cell_type": "code",
      "source": [
        "x_val = x_train[:1000]\n",
        "partial_x_train = x_train[1000:]\n",
        "y_val = one_hot_train_labels[:1000]\n",
        "partial_y_train = one_hot_train_labels[1000:]"
      ],
      "metadata": {
        "id": "sZZjP3C5AjBi"
      },
      "execution_count": 12,
      "outputs": []
    },
    {
      "cell_type": "markdown",
      "source": [
        "20번의 에포크로 모델 훈련"
      ],
      "metadata": {
        "id": "jUppzUCbA7xi"
      }
    },
    {
      "cell_type": "code",
      "source": [
        "history = model.fit(partial_x_train, partial_y_train, epochs=20, batch_size=512, validation_data=(x_val, y_val))"
      ],
      "metadata": {
        "colab": {
          "base_uri": "https://localhost:8080/"
        },
        "id": "hAtg6W9VA-fe",
        "outputId": "ce6c93a4-1b2e-43cb-fa02-4826ed328859"
      },
      "execution_count": 13,
      "outputs": [
        {
          "output_type": "stream",
          "name": "stdout",
          "text": [
            "Epoch 1/20\n",
            "16/16 [==============================] - 2s 67ms/step - loss: 2.8556 - accuracy: 0.4974 - val_loss: 1.8673 - val_accuracy: 0.6380\n",
            "Epoch 2/20\n",
            "16/16 [==============================] - 1s 50ms/step - loss: 1.4860 - accuracy: 0.7030 - val_loss: 1.3439 - val_accuracy: 0.7080\n",
            "Epoch 3/20\n",
            "16/16 [==============================] - 1s 49ms/step - loss: 1.0927 - accuracy: 0.7705 - val_loss: 1.1494 - val_accuracy: 0.7550\n",
            "Epoch 4/20\n",
            "16/16 [==============================] - 1s 47ms/step - loss: 0.8563 - accuracy: 0.8227 - val_loss: 1.0409 - val_accuracy: 0.7810\n",
            "Epoch 5/20\n",
            "16/16 [==============================] - 1s 48ms/step - loss: 0.6822 - accuracy: 0.8576 - val_loss: 0.9747 - val_accuracy: 0.8040\n",
            "Epoch 6/20\n",
            "16/16 [==============================] - 1s 50ms/step - loss: 0.5418 - accuracy: 0.8896 - val_loss: 0.9396 - val_accuracy: 0.8090\n",
            "Epoch 7/20\n",
            "16/16 [==============================] - 1s 49ms/step - loss: 0.4390 - accuracy: 0.9127 - val_loss: 0.9043 - val_accuracy: 0.8210\n",
            "Epoch 8/20\n",
            "16/16 [==============================] - 1s 48ms/step - loss: 0.3546 - accuracy: 0.9286 - val_loss: 0.8933 - val_accuracy: 0.8180\n",
            "Epoch 9/20\n",
            "16/16 [==============================] - 1s 49ms/step - loss: 0.2933 - accuracy: 0.9367 - val_loss: 0.8932 - val_accuracy: 0.8220\n",
            "Epoch 10/20\n",
            "16/16 [==============================] - 1s 60ms/step - loss: 0.2452 - accuracy: 0.9465 - val_loss: 0.9686 - val_accuracy: 0.8040\n",
            "Epoch 11/20\n",
            "16/16 [==============================] - 1s 50ms/step - loss: 0.2111 - accuracy: 0.9493 - val_loss: 0.9214 - val_accuracy: 0.8160\n",
            "Epoch 12/20\n",
            "16/16 [==============================] - 1s 49ms/step - loss: 0.1875 - accuracy: 0.9508 - val_loss: 0.9251 - val_accuracy: 0.8160\n",
            "Epoch 13/20\n",
            "16/16 [==============================] - 1s 49ms/step - loss: 0.1690 - accuracy: 0.9543 - val_loss: 0.9646 - val_accuracy: 0.8160\n",
            "Epoch 14/20\n",
            "16/16 [==============================] - 1s 49ms/step - loss: 0.1492 - accuracy: 0.9541 - val_loss: 1.0131 - val_accuracy: 0.8120\n",
            "Epoch 15/20\n",
            "16/16 [==============================] - 1s 48ms/step - loss: 0.1412 - accuracy: 0.9555 - val_loss: 1.0103 - val_accuracy: 0.8150\n",
            "Epoch 16/20\n",
            "16/16 [==============================] - 1s 49ms/step - loss: 0.1308 - accuracy: 0.9567 - val_loss: 0.9826 - val_accuracy: 0.8110\n",
            "Epoch 17/20\n",
            "16/16 [==============================] - 1s 49ms/step - loss: 0.1255 - accuracy: 0.9569 - val_loss: 1.0078 - val_accuracy: 0.8200\n",
            "Epoch 18/20\n",
            "16/16 [==============================] - 1s 48ms/step - loss: 0.1199 - accuracy: 0.9583 - val_loss: 1.1080 - val_accuracy: 0.8070\n",
            "Epoch 19/20\n",
            "16/16 [==============================] - 1s 50ms/step - loss: 0.1155 - accuracy: 0.9578 - val_loss: 1.0772 - val_accuracy: 0.8070\n",
            "Epoch 20/20\n",
            "16/16 [==============================] - 1s 47ms/step - loss: 0.1106 - accuracy: 0.9587 - val_loss: 1.0841 - val_accuracy: 0.8070\n"
          ]
        }
      ]
    },
    {
      "cell_type": "code",
      "source": [
        "## loss 와 accuracy 곡선을 그려 확인 \n",
        "import matplotlib.pyplot as plt\n",
        "\n",
        "history_dict = history.history\n",
        "loss = history_dict['loss']\n",
        "val_loss = history_dict['val_loss']\n",
        "\n",
        "epochs = range(1, len(loss)+1)\n",
        "\n",
        "plt.figure(figsize=(16,12))\n",
        "plt.plot(epochs, loss, 'bo', label = 'Training loss')\n",
        "plt.plot(epochs, val_loss, 'b', label='Validation loss')\n",
        "plt.title('Training and Validation loss')\n",
        "plt.xlabel('Epochs')\n",
        "plt.ylabel('loss')\n",
        "plt.legend()\n",
        "plt.show()"
      ],
      "metadata": {
        "colab": {
          "base_uri": "https://localhost:8080/",
          "height": 492
        },
        "id": "L5oAvMiUBN-3",
        "outputId": "1ae50070-72a2-444d-d583-990c5d5dd066"
      },
      "execution_count": 14,
      "outputs": [
        {
          "output_type": "display_data",
          "data": {
            "image/png": "[encoded data removed]",
            "text/plain": [
              "<Figure size 1152x864 with 1 Axes>"
            ]
          },
          "metadata": {
            "needs_background": "light"
          }
        }
      ]
    },
    {
      "cell_type": "markdown",
      "source": [
        "!!!!accuracy 그래프가 강의안과 다르게 나옴! 위의 loss 그래프랑 똑같게 나옴.. "
      ],
      "metadata": {
        "id": "9C93--2UEND4"
      }
    },
    {
      "cell_type": "code",
      "source": [
        "plt.clf()\n",
        "acc=history_dict['accuracy']\n",
        "val_acc = history_dict['val_accuracy']\n",
        "\n",
        "plt.figure(figsize=(16,12))\n",
        "plt.plot(epochs, loss, 'bo', label = 'Training acc')\n",
        "plt.plot(epochs, val_loss, 'b', label='Validation acc')\n",
        "plt.title('Training and Validation accuracy')\n",
        "plt.xlabel('Epochs')\n",
        "plt.ylabel('loss')\n",
        "plt.legend()\n",
        "plt.show()"
      ],
      "metadata": {
        "colab": {
          "base_uri": "https://localhost:8080/",
          "height": 511
        },
        "id": "L4uh0hILCsQZ",
        "outputId": "b9106593-7b83-4cf8-b333-db55e44e38db"
      },
      "execution_count": 18,
      "outputs": [
        {
          "output_type": "display_data",
          "data": {
            "text/plain": [
              "<Figure size 432x288 with 0 Axes>"
            ]
          },
          "metadata": {}
        },
        {
          "output_type": "display_data",
          "data": {
            "image/png": "[encoded data removed]",
            "text/plain": [
              "<Figure size 1152x864 with 1 Axes>"
            ]
          },
          "metadata": {
            "needs_background": "light"
          }
        }
      ]
    },
    {
      "cell_type": "markdown",
      "source": [
        "9번째 epoch에서 과적합 시작\n",
        "-> 9번의 에포크로 새로운 모델 훈련"
      ],
      "metadata": {
        "id": "IlTVDka-G4I1"
      }
    },
    {
      "cell_type": "code",
      "source": [
        "model = models.Sequential()\n",
        "model.add(layers.Dense(64, activation='relu', input_shape=(10000,)))\n",
        "model.add(layers.Dense(64, activation='relu'))\n",
        "model.add(layers.Dense(46, activation='softmax'))\n",
        "\n",
        "model.compile(optimizer='rmsprop', loss='categorical_crossentropy', metrics=['accuracy'])\n",
        "model.fit(partial_x_train, partial_y_train, epochs=9, batch_size=512)\n",
        "results=model.evaluate(x_test, one_hot_test_labels)\n",
        "print(results)"
      ],
      "metadata": {
        "colab": {
          "base_uri": "https://localhost:8080/"
        },
        "id": "NzJVcXd4EfBJ",
        "outputId": "f817324e-9016-4229-d29d-1a3f13cab018"
      },
      "execution_count": 20,
      "outputs": [
        {
          "output_type": "stream",
          "name": "stdout",
          "text": [
            "Epoch 1/9\n",
            "16/16 [==============================] - 2s 59ms/step - loss: 2.6044 - accuracy: 0.4940\n",
            "Epoch 2/9\n",
            "16/16 [==============================] - 1s 55ms/step - loss: 1.4035 - accuracy: 0.7091\n",
            "Epoch 3/9\n",
            "16/16 [==============================] - 1s 46ms/step - loss: 1.0287 - accuracy: 0.7808\n",
            "Epoch 4/9\n",
            "16/16 [==============================] - 1s 45ms/step - loss: 0.8057 - accuracy: 0.8295\n",
            "Epoch 5/9\n",
            "16/16 [==============================] - 1s 44ms/step - loss: 0.6385 - accuracy: 0.8642\n",
            "Epoch 6/9\n",
            "16/16 [==============================] - 1s 47ms/step - loss: 0.5088 - accuracy: 0.8959\n",
            "Epoch 7/9\n",
            "16/16 [==============================] - 1s 44ms/step - loss: 0.4064 - accuracy: 0.9178\n",
            "Epoch 8/9\n",
            "16/16 [==============================] - 1s 46ms/step - loss: 0.3304 - accuracy: 0.9303\n",
            "Epoch 9/9\n",
            "16/16 [==============================] - 1s 46ms/step - loss: 0.2740 - accuracy: 0.9411\n",
            "71/71 [==============================] - 0s 3ms/step - loss: 1.0003 - accuracy: 0.7894\n",
            "[1.000284194946289, 0.7894033789634705]\n"
          ]
        }
      ]
    },
    {
      "cell_type": "code",
      "source": [
        "# 새로운 데이터에 대해 예측\n",
        "predictions = model.predict(x_test)\n",
        "predictions[0].shape"
      ],
      "metadata": {
        "colab": {
          "base_uri": "https://localhost:8080/"
        },
        "id": "XTkqKC5jHkpv",
        "outputId": "3363d1d7-b4c5-4281-e6af-216432ae3775"
      },
      "execution_count": 22,
      "outputs": [
        {
          "output_type": "execute_result",
          "data": {
            "text/plain": [
              "(46,)"
            ]
          },
          "metadata": {},
          "execution_count": 22
        }
      ]
    },
    {
      "cell_type": "code",
      "source": [
        "np.sum(predictions[0])"
      ],
      "metadata": {
        "colab": {
          "base_uri": "https://localhost:8080/"
        },
        "id": "bQMr5P_UHzQS",
        "outputId": "4549e22e-16e7-4c2e-d252-07567f28049c"
      },
      "execution_count": 23,
      "outputs": [
        {
          "output_type": "execute_result",
          "data": {
            "text/plain": [
              "0.99999994"
            ]
          },
          "metadata": {},
          "execution_count": 23
        }
      ]
    },
    {
      "cell_type": "code",
      "source": [
        "np.argmax(predictions[0])"
      ],
      "metadata": {
        "colab": {
          "base_uri": "https://localhost:8080/"
        },
        "id": "DLTV1DbOH11z",
        "outputId": "5311f433-d553-4846-f379-0aef7b2a9abf"
      },
      "execution_count": 24,
      "outputs": [
        {
          "output_type": "execute_result",
          "data": {
            "text/plain": [
              "3"
            ]
          },
          "metadata": {},
          "execution_count": 24
        }
      ]
    },
    {
      "cell_type": "markdown",
      "source": [
        "충분히 큰 중간층을 두어야 하는 이유 \n",
        "- 마지막 층이 46차원 \n",
        "  - 중간층의 히든 유닛이 46보다 많이 작아선 안됨. "
      ],
      "metadata": {
        "id": "mepYC8SDH8Hb"
      }
    },
    {
      "cell_type": "code",
      "source": [
        ""
      ],
      "metadata": {
        "id": "W2F6bhg7H6gx"
      },
      "execution_count": null,
      "outputs": []
    }
  ]
}