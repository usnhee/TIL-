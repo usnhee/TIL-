{
  "nbformat": 4,
  "nbformat_minor": 0,
  "metadata": {
    "colab": {
      "name": "mnist_tf1.ipynb",
      "provenance": [],
      "collapsed_sections": [],
      "authorship_tag": "ABX9TyPUy4H/8SPw/F2OqyD8H6LR",
      "include_colab_link": true
    },
    "kernelspec": {
      "name": "python3",
      "display_name": "Python 3"
    },
    "language_info": {
      "name": "python"
    }
  },
  "cells": [
    {
      "cell_type": "markdown",
      "metadata": {
        "id": "view-in-github",
        "colab_type": "text"
      },
      "source": [
        "<a href=\"https://colab.research.google.com/github/usnhee/TIL-/blob/master/mnist_tf1.ipynb\" target=\"_parent\"><img src=\"https://colab.research.google.com/assets/colab-badge.svg\" alt=\"Open In Colab\"/></a>"
      ]
    },
    {
      "cell_type": "code",
      "execution_count": 1,
      "metadata": {
        "colab": {
          "base_uri": "https://localhost:8080/"
        },
        "id": "bkpnGwa_2Niq",
        "outputId": "1dd55e12-98b3-49e3-f70c-37b42f819c05"
      },
      "outputs": [
        {
          "output_type": "stream",
          "name": "stdout",
          "text": [
            "Downloading data from https://storage.googleapis.com/tensorflow/tf-keras-datasets/mnist.npz\n",
            "11493376/11490434 [==============================] - 0s 0us/step\n",
            "11501568/11490434 [==============================] - 0s 0us/step\n"
          ]
        }
      ],
      "source": [
        "from tensorflow.keras.datasets.mnist import load_data\n",
        "\n",
        "(x_train, y_train), (x_test, y_test) = load_data(path='mnist.npz')"
      ]
    },
    {
      "cell_type": "code",
      "source": [
        "print(x_train.shape, y_train.shape)\n",
        "print(y_train)\n",
        "\n",
        "print(x_test.shape, y_test.shape)\n",
        "print(y_test)"
      ],
      "metadata": {
        "colab": {
          "base_uri": "https://localhost:8080/"
        },
        "id": "0_soD8Dz2cB7",
        "outputId": "94e03596-012d-4c63-eac3-82f68f2030ff"
      },
      "execution_count": 2,
      "outputs": [
        {
          "output_type": "stream",
          "name": "stdout",
          "text": [
            "(60000, 28, 28) (60000,)\n",
            "[5 0 4 ... 5 6 8]\n",
            "(10000, 28, 28) (10000,)\n",
            "[7 2 1 ... 4 5 6]\n"
          ]
        }
      ]
    },
    {
      "cell_type": "code",
      "source": [
        "import matplotlib.pyplot as plt\n",
        "import numpy as np\n",
        "\n",
        "sample_size=3\n",
        "\n",
        "random_idx = np.random.randint(60000, size=sample_size)\n",
        "\n",
        "for idx in random_idx:\n",
        "  img = x_train[idx,:]\n",
        "  label = y_train[idx]\n",
        "  plt.figure()\n",
        "\n",
        "  plt.imshow(img)\n",
        "  plt.title(f'{idx}-th data, label is {label}')"
      ],
      "metadata": {
        "colab": {
          "base_uri": "https://localhost:8080/",
          "height": 809
        },
        "id": "sYWQYoTp2sZA",
        "outputId": "5dc3831a-64a5-4d97-91e7-de3ee0bd9c8f"
      },
      "execution_count": 11,
      "outputs": [
        {
          "output_type": "display_data",
          "data": {
            "image/png": "[encoded data removed]",
            "text/plain": [
              "<Figure size 432x288 with 1 Axes>"
            ]
          },
          "metadata": {
            "needs_background": "light"
          }
        },
        {
          "output_type": "display_data",
          "data": {
            "image/png": "[encoded data removed]",
            "text/plain": [
              "<Figure size 432x288 with 1 Axes>"
            ]
          },
          "metadata": {
            "needs_background": "light"
          }
        },
        {
          "output_type": "display_data",
          "data": {
            "image/png": "[encoded data removed]",
            "text/plain": [
              "<Figure size 432x288 with 1 Axes>"
            ]
          },
          "metadata": {
            "needs_background": "light"
          }
        }
      ]
    },
    {
      "cell_type": "code",
      "source": [
        "from sklearn.model_selection import train_test_split\n",
        "x_train, x_val, y_train, y_val = train_test_split(x_train, y_train, test_size=0.3, random_state=777)\n",
        "\n",
        "print(f'train data: {x_train.shape}  label: {y_train.shape}')\n",
        "print(f'validation data: {x_val.shape}  label: {y_val.shape}')"
      ],
      "metadata": {
        "colab": {
          "base_uri": "https://localhost:8080/"
        },
        "id": "qCYqM5PU3cvH",
        "outputId": "044a2cb0-c2a1-4c8c-dcd6-ac406938dcf8"
      },
      "execution_count": 12,
      "outputs": [
        {
          "output_type": "stream",
          "name": "stdout",
          "text": [
            "train data: (42000, 28, 28)  label: (42000,)\n",
            "validation data: (18000, 28, 28)  label: (18000,)\n"
          ]
        }
      ]
    },
    {
      "cell_type": "code",
      "source": [
        "num_x_train = x_train.shape[0]\n",
        "num_x_val = x_val.shape[0]\n",
        "num_x_test = x_test.shape[0]\n",
        "\n",
        "x_train= (x_train.reshape((num_x_train, 28*28)))/255\n",
        "x_val= (x_val.reshape((num_x_val, 28*28)))/255\n",
        "x_test= (x_test.reshape((num_x_test, 28*28)))/255\n",
        "\n",
        "print(x_train.shape)"
      ],
      "metadata": {
        "colab": {
          "base_uri": "https://localhost:8080/"
        },
        "id": "fpyJdxQ36ekh",
        "outputId": "c9db8557-100f-426a-bb84-84180e8c45e5"
      },
      "execution_count": 13,
      "outputs": [
        {
          "output_type": "stream",
          "name": "stdout",
          "text": [
            "(42000, 784)\n"
          ]
        }
      ]
    },
    {
      "cell_type": "code",
      "source": [
        "from tensorflow.keras.utils import to_categorical\n",
        "\n",
        "y_train = to_categorical(y_train)\n",
        "y_val = to_categorical(y_val)\n",
        "y_test = to_categorical(y_test)\n",
        "\n",
        "print(y_train)"
      ],
      "metadata": {
        "colab": {
          "base_uri": "https://localhost:8080/"
        },
        "id": "7KZ4na2o6_fG",
        "outputId": "3c7ee18f-7b4e-4a53-bad5-1a7e9c320fd0"
      },
      "execution_count": 14,
      "outputs": [
        {
          "output_type": "stream",
          "name": "stdout",
          "text": [
            "[[0. 0. 1. ... 0. 0. 0.]\n",
            " [0. 0. 0. ... 1. 0. 0.]\n",
            " [0. 0. 0. ... 0. 0. 0.]\n",
            " ...\n",
            " [0. 0. 0. ... 0. 0. 0.]\n",
            " [0. 0. 0. ... 0. 0. 0.]\n",
            " [0. 0. 0. ... 0. 0. 0.]]\n"
          ]
        }
      ]
    },
    {
      "cell_type": "code",
      "source": [
        "from tensorflow.keras.models import Sequential\n",
        "from tensorflow.keras.layers import Dense\n",
        "model = Sequential()\n",
        "\n",
        "model.add(Dense(64,activation='relu', input_shape=(784,)))\n",
        "model.add(Dense(32, activation='relu'))\n",
        "model.add(Dense(10, activation='softmax'))"
      ],
      "metadata": {
        "id": "0Zwc7WVr7acP"
      },
      "execution_count": 15,
      "outputs": []
    },
    {
      "cell_type": "markdown",
      "source": [
        "소프트맥스 함수로 얻은 값이 시그모이드 함수로 얻은 값보다 비교가 쉬움. "
      ],
      "metadata": {
        "id": "pzlnHTcl8U6Z"
      }
    },
    {
      "cell_type": "code",
      "source": [
        "def softmax(arr):\n",
        "  m=np.max(arr)\n",
        "  arr = arr-m \n",
        "  arr = np.exp(arr)\n",
        "  return arr / np.sum(arr)\n",
        "\n",
        "def sigmoid(x): \n",
        "  return 1/ (1+np.exp(-x))\n",
        "\n",
        "case_1 = np.array([3.1,3.0,2.9])\n",
        "case_2 = np.array([2.0,1.0,0.7])\n",
        "\n",
        "np.set_printoptions(precision=3)\n",
        "print(f'sigmoid {sigmoid(case_1)},   softmax {softmax(case_1)}')\n",
        "print(f'sigmoid {sigmoid(case_2)},   softmax {softmax(case_2)}')"
      ],
      "metadata": {
        "colab": {
          "base_uri": "https://localhost:8080/"
        },
        "id": "xY23Y3Mh8AYs",
        "outputId": "8e9b65e1-a0d2-456f-dd57-16896b8bba23"
      },
      "execution_count": 16,
      "outputs": [
        {
          "output_type": "stream",
          "name": "stdout",
          "text": [
            "sigmoid [0.957 0.953 0.948],   softmax [0.367 0.332 0.301]\n",
            "sigmoid [0.881 0.731 0.668],   softmax [0.61  0.224 0.166]\n"
          ]
        }
      ]
    },
    {
      "cell_type": "code",
      "source": [
        "model.compile(optimizer= 'adam', loss='categorical_crossentropy', metrics=['acc'])"
      ],
      "metadata": {
        "id": "xPZ3AJLk9FM5"
      },
      "execution_count": 17,
      "outputs": []
    },
    {
      "cell_type": "code",
      "source": [
        "history = model.fit(x_train, y_train, epochs= 30, batch_size=128, validation_data=(x_val,y_val))"
      ],
      "metadata": {
        "colab": {
          "base_uri": "https://localhost:8080/"
        },
        "id": "t1vzaFo19UjZ",
        "outputId": "8786d64e-ee1a-4105-949d-ee62f7d44278"
      },
      "execution_count": 18,
      "outputs": [
        {
          "output_type": "stream",
          "name": "stdout",
          "text": [
            "Epoch 1/30\n",
            "329/329 [==============================] - 2s 4ms/step - loss: 0.4691 - acc: 0.8730 - val_loss: 0.2576 - val_acc: 0.9273\n",
            "Epoch 2/30\n",
            "329/329 [==============================] - 1s 4ms/step - loss: 0.2129 - acc: 0.9387 - val_loss: 0.1897 - val_acc: 0.9463\n",
            "Epoch 3/30\n",
            "329/329 [==============================] - 1s 4ms/step - loss: 0.1612 - acc: 0.9536 - val_loss: 0.1714 - val_acc: 0.9498\n",
            "Epoch 4/30\n",
            "329/329 [==============================] - 1s 4ms/step - loss: 0.1310 - acc: 0.9624 - val_loss: 0.1459 - val_acc: 0.9573\n",
            "Epoch 5/30\n",
            "329/329 [==============================] - 1s 4ms/step - loss: 0.1086 - acc: 0.9683 - val_loss: 0.1308 - val_acc: 0.9619\n",
            "Epoch 6/30\n",
            "329/329 [==============================] - 1s 4ms/step - loss: 0.0927 - acc: 0.9732 - val_loss: 0.1272 - val_acc: 0.9627\n",
            "Epoch 7/30\n",
            "329/329 [==============================] - 1s 4ms/step - loss: 0.0832 - acc: 0.9749 - val_loss: 0.1197 - val_acc: 0.9651\n",
            "Epoch 8/30\n",
            "329/329 [==============================] - 1s 4ms/step - loss: 0.0701 - acc: 0.9798 - val_loss: 0.1142 - val_acc: 0.9670\n",
            "Epoch 9/30\n",
            "329/329 [==============================] - 1s 4ms/step - loss: 0.0623 - acc: 0.9820 - val_loss: 0.1163 - val_acc: 0.9668\n",
            "Epoch 10/30\n",
            "329/329 [==============================] - 1s 4ms/step - loss: 0.0551 - acc: 0.9840 - val_loss: 0.1159 - val_acc: 0.9669\n",
            "Epoch 11/30\n",
            "329/329 [==============================] - 1s 4ms/step - loss: 0.0487 - acc: 0.9858 - val_loss: 0.1085 - val_acc: 0.9687\n",
            "Epoch 12/30\n",
            "329/329 [==============================] - 1s 4ms/step - loss: 0.0420 - acc: 0.9882 - val_loss: 0.1116 - val_acc: 0.9681\n",
            "Epoch 13/30\n",
            "329/329 [==============================] - 1s 4ms/step - loss: 0.0409 - acc: 0.9876 - val_loss: 0.1123 - val_acc: 0.9688\n",
            "Epoch 14/30\n",
            "329/329 [==============================] - 1s 4ms/step - loss: 0.0340 - acc: 0.9906 - val_loss: 0.1187 - val_acc: 0.9675\n",
            "Epoch 15/30\n",
            "329/329 [==============================] - 1s 4ms/step - loss: 0.0319 - acc: 0.9909 - val_loss: 0.1164 - val_acc: 0.9679\n",
            "Epoch 16/30\n",
            "329/329 [==============================] - 1s 4ms/step - loss: 0.0266 - acc: 0.9926 - val_loss: 0.1169 - val_acc: 0.9682\n",
            "Epoch 17/30\n",
            "329/329 [==============================] - 1s 4ms/step - loss: 0.0228 - acc: 0.9940 - val_loss: 0.1196 - val_acc: 0.9690\n",
            "Epoch 18/30\n",
            "329/329 [==============================] - 1s 4ms/step - loss: 0.0202 - acc: 0.9945 - val_loss: 0.1192 - val_acc: 0.9689\n",
            "Epoch 19/30\n",
            "329/329 [==============================] - 1s 4ms/step - loss: 0.0177 - acc: 0.9955 - val_loss: 0.1229 - val_acc: 0.9681\n",
            "Epoch 20/30\n",
            "329/329 [==============================] - 1s 4ms/step - loss: 0.0162 - acc: 0.9953 - val_loss: 0.1224 - val_acc: 0.9695\n",
            "Epoch 21/30\n",
            "329/329 [==============================] - 1s 4ms/step - loss: 0.0134 - acc: 0.9967 - val_loss: 0.1233 - val_acc: 0.9691\n",
            "Epoch 22/30\n",
            "329/329 [==============================] - 1s 4ms/step - loss: 0.0122 - acc: 0.9971 - val_loss: 0.1282 - val_acc: 0.9684\n",
            "Epoch 23/30\n",
            "329/329 [==============================] - 1s 4ms/step - loss: 0.0131 - acc: 0.9964 - val_loss: 0.1376 - val_acc: 0.9668\n",
            "Epoch 24/30\n",
            "329/329 [==============================] - 1s 4ms/step - loss: 0.0106 - acc: 0.9972 - val_loss: 0.1364 - val_acc: 0.9671\n",
            "Epoch 25/30\n",
            "329/329 [==============================] - 1s 4ms/step - loss: 0.0115 - acc: 0.9968 - val_loss: 0.1446 - val_acc: 0.9681\n",
            "Epoch 26/30\n",
            "329/329 [==============================] - 1s 4ms/step - loss: 0.0095 - acc: 0.9975 - val_loss: 0.1512 - val_acc: 0.9679\n",
            "Epoch 27/30\n",
            "329/329 [==============================] - 1s 4ms/step - loss: 0.0110 - acc: 0.9966 - val_loss: 0.1511 - val_acc: 0.9667\n",
            "Epoch 28/30\n",
            "329/329 [==============================] - 1s 4ms/step - loss: 0.0076 - acc: 0.9982 - val_loss: 0.1450 - val_acc: 0.9682\n",
            "Epoch 29/30\n",
            "329/329 [==============================] - 1s 4ms/step - loss: 0.0062 - acc: 0.9986 - val_loss: 0.1530 - val_acc: 0.9678\n",
            "Epoch 30/30\n",
            "329/329 [==============================] - 1s 4ms/step - loss: 0.0059 - acc: 0.9983 - val_loss: 0.1555 - val_acc: 0.9685\n"
          ]
        }
      ]
    },
    {
      "cell_type": "code",
      "source": [
        "history.history.keys()"
      ],
      "metadata": {
        "colab": {
          "base_uri": "https://localhost:8080/"
        },
        "id": "V1oLfDJC9hCq",
        "outputId": "b22538cd-f816-4948-caf6-42cdb58234f5"
      },
      "execution_count": 19,
      "outputs": [
        {
          "output_type": "execute_result",
          "data": {
            "text/plain": [
              "dict_keys(['loss', 'acc', 'val_loss', 'val_acc'])"
            ]
          },
          "metadata": {},
          "execution_count": 19
        }
      ]
    },
    {
      "cell_type": "code",
      "source": [
        "import matplotlib.pyplot as plt\n",
        "\n",
        "his_dict = history.history\n",
        "loss= his_dict['loss']\n",
        "val_loss = his_dict['val_loss']\n",
        "\n",
        "epochs=range(1,len(loss)+1)\n",
        "fig= plt.figure(figsize=(10,5))\n",
        "\n",
        "#loss graph (train, val)\n",
        "ax1= fig.add_subplot(1,2,1)\n",
        "ax1.plot(epochs, loss, color='blue', label='train_loss')\n",
        "ax1.plot(epochs, val_loss, color='orange', label='validation_loss')\n",
        "ax1.set_title('train and val loss')\n",
        "ax1.set_xlabel('epochs')\n",
        "ax1.set_ylabel('loss')\n",
        "ax1.legend()\n",
        "\n",
        "acc = his_dict['acc']\n",
        "val_acc = his_dict['val_acc']\n",
        "\n",
        "#aaccuracy (train, val)\n",
        "ax2 = fig.add_subplot(1,2,2)\n",
        "ax2.plot(epochs, acc, color='blue', label='train_accuracy')\n",
        "ax2.plot(epochs, val_acc, color='orange', label='validation_accuracy')\n",
        "ax2.set_title('train and val accuracy')\n",
        "ax2.set_xlabel('epochs')\n",
        "ax2.set_ylabel('accuracy')\n",
        "ax2.legend()"
      ],
      "metadata": {
        "colab": {
          "base_uri": "https://localhost:8080/",
          "height": 368
        },
        "id": "UJhz1k2z9v5c",
        "outputId": "fedcf147-9818-45cd-c006-3c6c3f3f729d"
      },
      "execution_count": 22,
      "outputs": [
        {
          "output_type": "execute_result",
          "data": {
            "text/plain": [
              "<matplotlib.legend.Legend at 0x7f2ae7fad610>"
            ]
          },
          "metadata": {},
          "execution_count": 22
        },
        {
          "output_type": "display_data",
          "data": {
            "image/png": "[encoded data removed]",
            "text/plain": [
              "<Figure size 720x360 with 2 Axes>"
            ]
          },
          "metadata": {
            "needs_background": "light"
          }
        }
      ]
    },
    {
      "cell_type": "code",
      "source": [
        "model.evaluate(x_test,y_test)   # 모델 평가 "
      ],
      "metadata": {
        "colab": {
          "base_uri": "https://localhost:8080/"
        },
        "id": "LlPT-gPaBzFT",
        "outputId": "43b14938-05f6-4ec9-c9cb-725af652d2f3"
      },
      "execution_count": 23,
      "outputs": [
        {
          "output_type": "stream",
          "name": "stdout",
          "text": [
            "313/313 [==============================] - 1s 2ms/step - loss: 0.1324 - acc: 0.9741\n"
          ]
        },
        {
          "output_type": "execute_result",
          "data": {
            "text/plain": [
              "[0.13236625492572784, 0.9740999937057495]"
            ]
          },
          "metadata": {},
          "execution_count": 23
        }
      ]
    },
    {
      "cell_type": "code",
      "source": [
        "import numpy as np \n",
        "results=model.predict(x_test)    # 학습모델로 예측\n",
        "print(results.shape)\n",
        "np.set_printoptions(precision=7)\n",
        "print(f'probabilities of being included in each labels: \\n{results[0]}')"
      ],
      "metadata": {
        "colab": {
          "base_uri": "https://localhost:8080/"
        },
        "id": "RwotFny6CDtN",
        "outputId": "5f0592a9-6c5e-4798-8438-b1b708547562"
      },
      "execution_count": 25,
      "outputs": [
        {
          "output_type": "stream",
          "name": "stdout",
          "text": [
            "(10000, 10)\n",
            "probabilities of being included in each labels: \n",
            "[1.4564242e-13 2.1658209e-15 9.8955844e-11 2.4501750e-07 6.6758400e-20\n",
            " 2.8182021e-12 6.4008164e-22 9.9999905e-01 1.6439580e-09 7.2332091e-07]\n"
          ]
        }
      ]
    },
    {
      "cell_type": "markdown",
      "source": [
        "results 데이터는 10000장의 이미지에 대한 각 label에 속할 확률 값을 담고 있음. \n",
        "results[0]의 경우, 이 이미지는 7번째 값이  가장 값이 크므로 7에 속할 확률이 큰것. \n",
        "- argmax 할 경우 7을 뽑아줄것.. "
      ],
      "metadata": {
        "id": "WPSfZdXfK0_v"
      }
    },
    {
      "cell_type": "markdown",
      "source": [
        "위 출력값을 보면 7번째 값이 9.99999 -> 즉, 첫번째 그림은 아마도 숫자 7일 확률이 높음을 알 수 있다. "
      ],
      "metadata": {
        "id": "njFLqtymGho2"
      }
    },
    {
      "cell_type": "code",
      "source": [
        "arg_results = np.argmax(results, axis=-1)   # 10000개 이미지 중 각 label중 확률이 높은것 가져오기. \n",
        "plt.imshow(x_test[0].reshape(28,28))\n",
        "plt.title('Predicted value of the first image: '+str(arg_results[0]))\n",
        "plt.show()"
      ],
      "metadata": {
        "colab": {
          "base_uri": "https://localhost:8080/",
          "height": 281
        },
        "id": "za9JKDBuCsxx",
        "outputId": "269e79db-4a09-4639-bca7-7650b0390c5b"
      },
      "execution_count": 26,
      "outputs": [
        {
          "output_type": "display_data",
          "data": {
            "image/png": "[encoded data removed]",
            "text/plain": [
              "<Figure size 432x288 with 1 Axes>"
            ]
          },
          "metadata": {
            "needs_background": "light"
          }
        }
      ]
    },
    {
      "cell_type": "code",
      "source": [
        "#1 혼동행렬로 확인 \n",
        "from sklearn.metrics import classification_report, confusion_matrix\n",
        "import seaborn as sns\n",
        "\n",
        "plt.figure(figsize=(7,7))\n",
        "cm = confusion_matrix(np.argmax(y_test, axis=-1), np.argmax(results, axis=-1))  # 실제 라벨값, 예측 라벨값 \n",
        "sns.heatmap(cm, annot=True, fmt = 'd', cmap='Blues')\n",
        "plt.xlabel('predicted label')\n",
        "plt.ylabel('true label')\n",
        "plt.show()"
      ],
      "metadata": {
        "colab": {
          "base_uri": "https://localhost:8080/",
          "height": 442
        },
        "id": "seXs7Rw_J6na",
        "outputId": "f5d36228-2cc0-47d0-af9c-42d41886b81a"
      },
      "execution_count": 27,
      "outputs": [
        {
          "output_type": "display_data",
          "data": {
            "image/png": "[encoded data removed]",
            "text/plain": [
              "<Figure size 504x504 with 2 Axes>"
            ]
          },
          "metadata": {
            "needs_background": "light"
          }
        }
      ]
    },
    {
      "cell_type": "code",
      "source": [
        "#2 classification_report 분류 보고서 로 확인\n",
        "\n",
        "print('\\n', classification_report(np.argmax(y_test,axis=-1), np.argmax(results, axis=-1)))  # 실제 라벨값, 예측 라벨값"
      ],
      "metadata": {
        "colab": {
          "base_uri": "https://localhost:8080/"
        },
        "id": "LmeXQDnXKlj7",
        "outputId": "08adc3a7-436a-4e41-c183-e64d76966786"
      },
      "execution_count": 28,
      "outputs": [
        {
          "output_type": "stream",
          "name": "stdout",
          "text": [
            "\n",
            "               precision    recall  f1-score   support\n",
            "\n",
            "           0       0.98      0.98      0.98       980\n",
            "           1       0.99      0.99      0.99      1135\n",
            "           2       0.98      0.97      0.97      1032\n",
            "           3       0.98      0.96      0.97      1010\n",
            "           4       0.97      0.98      0.98       982\n",
            "           5       0.98      0.97      0.97       892\n",
            "           6       0.98      0.97      0.97       958\n",
            "           7       0.97      0.98      0.97      1028\n",
            "           8       0.95      0.98      0.96       974\n",
            "           9       0.97      0.96      0.96      1009\n",
            "\n",
            "    accuracy                           0.97     10000\n",
            "   macro avg       0.97      0.97      0.97     10000\n",
            "weighted avg       0.97      0.97      0.97     10000\n",
            "\n"
          ]
        }
      ]
    }
  ]
}