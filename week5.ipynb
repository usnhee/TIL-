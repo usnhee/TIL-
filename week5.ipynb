{
  "nbformat": 4,
  "nbformat_minor": 0,
  "metadata": {
    "colab": {
      "provenance": [],
      "collapsed_sections": [],
      "authorship_tag": "ABX9TyOJVVzJX0C/fe6DlvrqjMEV",
      "include_colab_link": true
    },
    "kernelspec": {
      "name": "python3",
      "display_name": "Python 3"
    },
    "language_info": {
      "name": "python"
    }
  },
  "cells": [
    {
      "cell_type": "markdown",
      "metadata": {
        "id": "view-in-github",
        "colab_type": "text"
      },
      "source": [
        "<a href=\"https://colab.research.google.com/github/usnhee/TIL-/blob/master/week5.ipynb\" target=\"_parent\"><img src=\"https://colab.research.google.com/assets/colab-badge.svg\" alt=\"Open In Colab\"/></a>"
      ]
    },
    {
      "cell_type": "code",
      "execution_count": null,
      "metadata": {
        "id": "tFMqsKaZWeDe"
      },
      "outputs": [],
      "source": [
        "## Q12 \n",
        "'''\n",
        "시험 점수를 입력받고, 그에 따른 등급과 총 평균을 계산하는 프로그램을 작성해주세요.\n",
        "\n",
        "조건 1 : 시험 점수는 0에서 100점 사이입니다.\n",
        "조건 2 : 점수당 등급은 다음과 같습니다.\n",
        "90이상 100이하 : A\n",
        "80이상 90미만 : B\n",
        "70이상 80미만 : C\n",
        "60이상 70미만 : D\n",
        "60미만 : F\n",
        "\n",
        "[입출력 예시]\n",
        "총 과목의 수를 입력해주세요: 3\n",
        "점수를 입력해주세요: 100 #입력\n",
        "해당 과목 등급: A\n",
        "점수를 입력해주세요: 80 #입력\n",
        "해당 과목 등급: B\n",
        "점수를 입력해주세요: 60 #입력\n",
        "해당 과목 등급: D\n",
        "총 과목의 평균은 80점 입니다.\n",
        "'''\n",
        "\n",
        "def solution():\n",
        "  subj = int(input('과목 수를 입력해주세요: '))\n",
        "  scores = []\n",
        "  for i in range(subj):                            ## 과목 갯수만큼 점수 입력 반복 \n",
        "    score = int(input('점수를 입력해주세요: '))    \n",
        "    scores.append(score)\n",
        "  try:                                             ## 평균 구하기 \n",
        "    avg = sum(scores)//subj  \n",
        "    print(f'과목의 평균은 {avg}점 입니다.')              \n",
        "  except ZeroDivisionError :\n",
        "    print('0으로 나눌 수 없습니다.')\n",
        "\n",
        "solution()"
      ]
    },
    {
      "cell_type": "code",
      "source": [
        "## Q13\n",
        "\n",
        "'''\n",
        "알파벳 거리란, 'A' = 1, 'B' = 2, ... 'Z' = 26과 같은 방식으로 알파벳에 숫자를 할당한 뒤 계산되는 거리를 의미한다.\n",
        "\n",
        "예를 들어, 'B'와 'D'의 거리는 4-2 = 2 이다.\n",
        "\n",
        "길이가 같은 두 단어가 주어졌을 때, 각 단어에 포함된 모든 글자의 알파벳 거리의 합을 구하세요.\n",
        "\n",
        "[입출력예시]\n",
        "\n",
        "in \n",
        "1.\n",
        "AAAA ABCD \n",
        "\n",
        "2.\n",
        "BCDF AAAA\n",
        "\n",
        "out\n",
        "1. 6\n",
        "2. 11\n",
        "\n",
        "'''\n",
        "## string 길이 같은지 판단 \n",
        "## if 길이 같다 -> 각 알파벳을 숫자로 변환후 더한다. \n",
        "## 차를 구한다. \n",
        "\n",
        "## 알파벳을 숫자로 변환하는 함수를 구현 \n",
        "alp=['A','B','C','D','E','F','G','H','I','J','K','L','M','N','O','P',\n",
        "    'Q','R','S','T','U','V','W','X','Y','Z']\n",
        "sum = 0 \n",
        "\n",
        "a, b = input('두 영어 단어를 입력해주세요: ').upper().split()\n",
        "\n",
        "if len(a) == len(b):     ## 길이가 같으면 \n",
        "  for i in range(len(a)):\n",
        "    dist = abs(alp.index(a[i])-alp.index(b[i]))\n",
        "    sum = sum+dist\n",
        "  print(f'두 단어의 차는 {sum} 입니다.')\n",
        "else : \n",
        "  print('두 단어의 길이가 다릅니다.')\n"
      ],
      "metadata": {
        "colab": {
          "base_uri": "https://localhost:8080/"
        },
        "id": "brBwnFQLLztX",
        "outputId": "6775c8fc-8ce4-404a-b052-41eb4b382deb"
      },
      "execution_count": 2,
      "outputs": [
        {
          "output_type": "stream",
          "name": "stdout",
          "text": [
            "두 영어 단어를 입력해주세요: aaaa bbbb\n",
            "두 단어의 차는 4 입니다.\n"
          ]
        }
      ]
    },
    {
      "cell_type": "code",
      "source": [
        "alphabet = 'ABCDEFGHIJKLMNOPQRSTUVXYZ'     ## 순서 부여용 알파벳 \n",
        "def alpha(alphabet_list):      ## 인수로 알파벳 분리된 리스트\n",
        "  global alphabet\n",
        "  for idx in range(0,25) :     ## 0~26까지  \n",
        "    for letter in alphabet_list:     ## 인수리스트에서 \n",
        "      if letter == alphabet[idx] :   ## 같은 알파벳 있으면 \n",
        "        letter = idx                 ## 순서를 글자자리에 저장 \n",
        "  return alphabet_list"
      ],
      "metadata": {
        "id": "Eo-ZdraaPOBy"
      },
      "execution_count": null,
      "outputs": []
    },
    {
      "cell_type": "code",
      "source": [
        "alphabet = 'ABCDEFGHIJKLMNOPQRSTUVXYZ'     ## 순서 부여용 알파벳 \n",
        "def alpha2num(word):      ## 인수로 알파벳 분리된 리스트\n",
        "  global alphabet\n",
        "  num_list =[]\n",
        "  for letter in word:     ## 인수리스트에서 \n",
        "    for idx in range(0,25) :     ## 0~26까지  \n",
        "        ## 인수리스트에서 \n",
        "      if alphabet[idx] == letter :   ## 같은 알파벳 있으면 \n",
        "        num_list.append(idx+1)           ## 여기 아예 안들어감 \n",
        "  return num_list   ## 순서를 글자자리에 저장 \n",
        "\n",
        "\n",
        "  ## 리스트 만들어서 숫자를 저장해야 할듯, str에 변환이 안되는듯? \n"
      ],
      "metadata": {
        "id": "1IsoJW0rUODo"
      },
      "execution_count": null,
      "outputs": []
    },
    {
      "cell_type": "code",
      "source": [],
      "metadata": {
        "id": "sG1ATkVZV7lx"
      },
      "execution_count": null,
      "outputs": []
    },
    {
      "cell_type": "code",
      "source": [
        "alpha2num([a, a, b, a])"
      ],
      "metadata": {
        "colab": {
          "base_uri": "https://localhost:8080/"
        },
        "id": "O84dDDdOTrWp",
        "outputId": "85b0068c-f72f-429a-a9f9-d92db8b1501e"
      },
      "execution_count": null,
      "outputs": [
        {
          "output_type": "execute_result",
          "data": {
            "text/plain": [
              "[]"
            ]
          },
          "metadata": {},
          "execution_count": 44
        }
      ]
    }
  ]
}