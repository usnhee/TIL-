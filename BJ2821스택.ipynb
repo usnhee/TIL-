{
  "nbformat": 4,
  "nbformat_minor": 0,
  "metadata": {
    "colab": {
      "provenance": [],
      "authorship_tag": "ABX9TyMkc0Edt/04ar/iNeEKoFj1",
      "include_colab_link": true
    },
    "kernelspec": {
      "name": "python3",
      "display_name": "Python 3"
    },
    "language_info": {
      "name": "python"
    }
  },
  "cells": [
    {
      "cell_type": "markdown",
      "metadata": {
        "id": "view-in-github",
        "colab_type": "text"
      },
      "source": [
        "<a href=\"https://colab.research.google.com/github/usnhee/TIL-/blob/master/BJ2821%EC%8A%A4%ED%83%9D.ipynb\" target=\"_parent\"><img src=\"https://colab.research.google.com/assets/colab-badge.svg\" alt=\"Open In Colab\"/></a>"
      ]
    },
    {
      "cell_type": "markdown",
      "source": [
        "# Q 백준 2812 스택: 크게 만들기 \n",
        "N자리 숫자가 주어졌을 때, 여기서 숫자 K개를 지워서 얻을 수 있는 가장 큰 수를 구하는 프로그램을 작성하시오.\n",
        "\n",
        "첫째 줄에 N과 K가 주어진다. (1 ≤ K < N ≤ 500,000)\n",
        "\n",
        "둘째 줄에 N자리 숫자가 주어진다. 이 수는 0으로 시작하지 않는다.\n",
        "\n",
        "입력으로 주어진 숫자에서 K개를 지웠을 때 얻을 수 있는 가장 큰 수를 출력한다.\n",
        "\n",
        "\n",
        "\n",
        "[in]\n",
        "\n",
        "4 2\n",
        "\n",
        "1924\n",
        "\n",
        "[out]\n",
        "\n",
        "94\n",
        "\n",
        "[in]\n",
        "\n",
        "10 4\n",
        "\n",
        "4177252841\n",
        "\n",
        "[out] \n",
        "\n",
        "775841\n",
        "\n",
        "https://www.acmicpc.net/problem/2812"
      ],
      "metadata": {
        "id": "M7o3jYgzEbAA"
      }
    },
    {
      "cell_type": "code",
      "execution_count": null,
      "metadata": {
        "colab": {
          "base_uri": "https://localhost:8080/"
        },
        "id": "KodnDyMIEaIi",
        "outputId": "d5bc3442-8173-48b6-e0cd-b9ff5b3798fd"
      },
      "outputs": [
        {
          "output_type": "stream",
          "name": "stdout",
          "text": [
            "자릿수 N, 지울 수 갯수 K 입력: 10 4\n",
            "숫자입력: 4177252841\n",
            "7 7 5 8 4 1\n"
          ]
        }
      ],
      "source": [
        "N, K = map(int, input('자릿수 N, 지울 수 갯수 K 입력: ').split())\n",
        "num = input('숫자입력: ')     \n",
        "numbers = []\n",
        "stack = []       \n",
        "\n",
        "## 문자열인 숫자를 한자리씩 int로 떼어 list 저장\n",
        "for char in num:\n",
        "  numbers.append(int(char))    \n",
        "\n",
        "\n",
        "## numbers의 현재 숫자와 스택탑 비교해서 현재숫자가 더 크면 저장. \n",
        "## K개 지워야 함. --> 어떻게 구현할 것인가>>>   k>0까지 하고 k-=1 로 카운트 줄이기 \n",
        " \n",
        "\n",
        "\n",
        "for number in numbers:           ## 수열 전체 for loop \n",
        "  while K>0 and stack and stack[-1] < number:  ##   현재 숫자가 더 클때\n",
        "    stack.pop() ## 스택 팝 \n",
        "    K-=1 ##  카운트 \n",
        "  stack.append(number)\n",
        "\n",
        "\n",
        "print(*stack)\n",
        "  \n"
      ]
    }
  ]
}