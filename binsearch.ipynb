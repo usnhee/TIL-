{
 "cells": [
  {
   "cell_type": "code",
   "execution_count": 4,
   "metadata": {},
   "outputs": [
    {
     "name": "stdout",
     "output_type": "stream",
     "text": [
      "arrangement -->  [18, 35, 42, 48, 51, 52, 70, 86, 87, 89]\n",
      "20 is not found\n"
     ]
    }
   ],
   "source": [
    "import random\n",
    "## 이진 검색\n",
    "## 함수 \n",
    "def binarySearch(ary, fData):\n",
    "    pos = -1 \n",
    "    start = 0\n",
    "    end = len(ary) -1 \n",
    "    while (start <= end) : \n",
    "        mid = (start + end) //2\n",
    "        if fData == ary[mid] : \n",
    "            return mid\n",
    "        elif fData > ary[mid] : \n",
    "            start = mid + 1\n",
    "        else : \n",
    "            end = mid - 1\n",
    "\n",
    "    return pos\n",
    "## 전역\n",
    "dataAry = [ random.randint(1,99) for _ in range(10)]\n",
    "findData = dataAry[random.randint(0, len(dataAry)-1)]   ## 넣고 싶은 숫자 넣어도 됨.\n",
    "dataAry.sort()\n",
    "## 메인\n",
    "print('arrangement --> ', dataAry)\n",
    "position = binarySearch(dataAry, findData)\n",
    "if position == -1:\n",
    "    print(findData, 'is not found')\n",
    "else : \n",
    "    print(findData, 'is found in ', position )\n"
   ]
  }
 ],
 "metadata": {
  "interpreter": {
   "hash": "b2175d25d486a1aea0c4aada00ccf97fc3dc912815c910d75b0e3440d20dd4b0"
  },
  "kernelspec": {
   "display_name": "Python 3.9.9 64-bit (windows store)",
   "language": "python",
   "name": "python3"
  },
  "language_info": {
   "codemirror_mode": {
    "name": "ipython",
    "version": 3
   },
   "file_extension": ".py",
   "mimetype": "text/x-python",
   "name": "python",
   "nbconvert_exporter": "python",
   "pygments_lexer": "ipython3",
   "version": "3.9.9"
  },
  "orig_nbformat": 4
 },
 "nbformat": 4,
 "nbformat_minor": 2
}
