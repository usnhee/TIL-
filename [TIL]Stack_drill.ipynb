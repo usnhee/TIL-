{
 "cells": [
  {
   "cell_type": "code",
   "execution_count": 6,
   "metadata": {},
   "outputs": [
    {
     "name": "stdout",
     "output_type": "stream",
     "text": [
      "coke\n",
      "honey tea\n",
      "chicken\n"
     ]
    }
   ],
   "source": [
    "#함수\n",
    "def isStackFull() : \n",
    "    global SIZE, stack, top \n",
    "    if(top >= SIZE-1) : \n",
    "        return True\n",
    "    else : \n",
    "        return False\n",
    "\n",
    "def push(data) :\n",
    "    global SIZE, stack, top\n",
    "    if( isStackFull() == True):\n",
    "        print('Stack is Full!!')\n",
    "        return\n",
    "    top += 1 \n",
    "    stack[top] = data\n",
    "\n",
    "def isStackEmpty() : \n",
    "    global SIZE, stack, top\n",
    "    if (top == -1):\n",
    "        return True\n",
    "    else :\n",
    "        return False\n",
    "\n",
    "def pop():\n",
    "    global SIZE, stack, top\n",
    "    if( isStackEmpty() ):\n",
    "        print('Stack is Empty!!')\n",
    "        return\n",
    "    data = stack[top]\n",
    "    stack[top] = None\n",
    "    top -= 1\n",
    "    return data\n",
    "\n",
    "#전역변수\n",
    "SIZE = 5\n",
    "stack = [None for _ in range(SIZE)]\n",
    "top = -1\n",
    "#메인\n",
    "top += 1 \n",
    "stack[top] = 'coffee'\n",
    "top += 1 \n",
    "stack[top] = 'green tea'\n",
    "top += 1\n",
    "stack[top] = 'honey tea'\n",
    "top += 1 \n",
    "stack[top] = 'coke'\n",
    "\n",
    "\n",
    "print(pop())\n",
    "print(pop())\n",
    "\n",
    "push('chicken')\n",
    "print(pop())"
   ]
  }
 ],
 "metadata": {
  "interpreter": {
   "hash": "b2175d25d486a1aea0c4aada00ccf97fc3dc912815c910d75b0e3440d20dd4b0"
  },
  "kernelspec": {
   "display_name": "Python 3.9.9 64-bit (windows store)",
   "language": "python",
   "name": "python3"
  },
  "language_info": {
   "codemirror_mode": {
    "name": "ipython",
    "version": 3
   },
   "file_extension": ".py",
   "mimetype": "text/x-python",
   "name": "python",
   "nbconvert_exporter": "python",
   "pygments_lexer": "ipython3",
   "version": "3.9.9"
  },
  "orig_nbformat": 4
 },
 "nbformat": 4,
 "nbformat_minor": 2
}
