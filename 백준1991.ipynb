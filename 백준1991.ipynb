{
  "nbformat": 4,
  "nbformat_minor": 0,
  "metadata": {
    "colab": {
      "provenance": [],
      "authorship_tag": "ABX9TyMYjDqccTdNJQDJKQK2UCgT",
      "include_colab_link": true
    },
    "kernelspec": {
      "name": "python3",
      "display_name": "Python 3"
    },
    "language_info": {
      "name": "python"
    }
  },
  "cells": [
    {
      "cell_type": "markdown",
      "metadata": {
        "id": "view-in-github",
        "colab_type": "text"
      },
      "source": [
        "<a href=\"https://colab.research.google.com/github/usnhee/TIL-/blob/master/%EB%B0%B1%EC%A4%801991.ipynb\" target=\"_parent\"><img src=\"https://colab.research.google.com/assets/colab-badge.svg\" alt=\"Open In Colab\"/></a>"
      ]
    },
    {
      "cell_type": "markdown",
      "source": [
        "# 백준 1991 트리 순회\n",
        "\n",
        "이진 트리를 입력받아 전위 순회(preorder traversal), 중위 순회(inorder traversal), 후위 순회(postorder traversal)한 결과를 출력하는 프로그램을 작성하시오.\n",
        "\n",
        "\n",
        "**입력**\n",
        "\n",
        "첫째 줄에는 이진 트리의 노드의 개수 N(1 ≤ N ≤ 26)이 주어진다. 둘째 줄부터 N개의 줄에 걸쳐 각 노드와 그의 왼쪽 자식 노드, 오른쪽 자식 노드가 주어진다. 노드의 이름은 A부터 차례대로 알파벳 대문자로 매겨지며, 항상 A가 루트 노드가 된다. 자식 노드가 없는 경우에는 .으로 표현한다.\n",
        "\n",
        "**출력**\n",
        "\n",
        "첫째 줄에 전위 순회, 둘째 줄에 중위 순회, 셋째 줄에 후위 순회한 결과를 출력한다. 각 줄에 N개의 알파벳을 공백 없이 출력하면 된다.\n",
        "\n",
        "**예제입력**\n",
        "\n",
        "7\n",
        "\n",
        "A B C\n",
        "\n",
        "B D .\n",
        "\n",
        "C E F\n",
        "\n",
        "E . .\n",
        "\n",
        "F . G\n",
        "\n",
        "D . .\n",
        "\n",
        "G . .\n",
        "\n",
        "**예제출력**\n",
        "\n",
        "ABDCEFG\n",
        "\n",
        "DBAECFG\n",
        "\n",
        "DBEGFCA\n"
      ],
      "metadata": {
        "id": "MRAdQjc-ma7X"
      }
    },
    {
      "cell_type": "markdown",
      "source": [
        "① Python으로 트리 구현하는 방법 : dictionary(사전) 사용\n",
        "root를 key로 / left, right 자식들을 value로 할당한다.\n",
        "\n",
        "tree[root] = left, right\n",
        "\n",
        "tree = {}\n",
        "\n",
        "tree[\"A\"] = \"B\", \"C\"\n",
        "\n",
        "이렇게 tree의 인덱스는 KEY로, 저장되는 값은 VALUE로 사전에 저장할 수 있다.\n",
        "\n",
        "{\"A\" : (\"B\",\"C\")}\n",
        "\n",
        "👉 의미 : A가 부모인 노드가 B, C / A의 자식이 B, C\n",
        "\n",
        "※ A를 key로 가지는 value인 B를 인덱싱하는 방법 : tree[\"A\"][0]"
      ],
      "metadata": {
        "id": "qpRHhMtPpnEk"
      }
    },
    {
      "cell_type": "code",
      "source": [
        "# 입력부 \n",
        "tree = {} ## dictionary\n",
        "N = int(input())\n",
        "\n",
        "for i in range(N): \n",
        "  root, left, right = map(str, input().split())\n",
        "  tree[root] = [left, right]\n",
        "\n",
        "## 함수\n",
        "# 전위순회\n",
        "def preorder(root): \n",
        "  if root != '.':            # 노드 있으면 \n",
        "    print(root, end=' ')      # root \n",
        "    preorder(tree[root][0])  # left \n",
        "    preorder(tree[root][1])  # right\n",
        "\n",
        "\n",
        "# 중위순회 \n",
        "def centorder(root):\n",
        "  if root != '.':            # 노드 있으면\n",
        "    centorder(tree[root][0]) # left\n",
        "    print(root, end=' ')      # root\n",
        "    centorder(tree[root][1]) # right\n",
        "\n",
        "# 후위순회 \n",
        "def postorder(root):\n",
        "  if root != '.':            # 노드 있으면\n",
        "    postorder(tree[root][0]) # left\n",
        "    postorder(tree[root][1]) # right\n",
        "    print(root, end= ' ')    # root\n",
        "\n",
        "# 실행\n",
        "preorder('A')\n",
        "print()\n",
        "centorder('A')\n",
        "print()\n",
        "postorder('A')"
      ],
      "metadata": {
        "colab": {
          "base_uri": "https://localhost:8080/"
        },
        "id": "k1SITueimaVc",
        "outputId": "72c3f826-2402-4d63-ecdf-94537644cab8"
      },
      "execution_count": 8,
      "outputs": [
        {
          "output_type": "stream",
          "name": "stdout",
          "text": [
            "7\n",
            "A B C\n",
            "B D .\n",
            "C E F\n",
            "E . .\n",
            "F . G\n",
            "D . .\n",
            "G . .\n",
            "A B D C E F G \n",
            "D B A E C F G \n",
            "D B E G F C A "
          ]
        }
      ]
    }
  ]
}