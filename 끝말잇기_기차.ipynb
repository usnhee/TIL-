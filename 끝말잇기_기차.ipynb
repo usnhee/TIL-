{
  "nbformat": 4,
  "nbformat_minor": 0,
  "metadata": {
    "colab": {
      "provenance": [],
      "authorship_tag": "ABX9TyM90TD843r+1UECfN7tKsCm",
      "include_colab_link": true
    },
    "kernelspec": {
      "name": "python3",
      "display_name": "Python 3"
    },
    "language_info": {
      "name": "python"
    }
  },
  "cells": [
    {
      "cell_type": "markdown",
      "metadata": {
        "id": "view-in-github",
        "colab_type": "text"
      },
      "source": [
        "<a href=\"https://colab.research.google.com/github/usnhee/TIL-/blob/master/%EB%81%9D%EB%A7%90%EC%9E%87%EA%B8%B0_%EA%B8%B0%EC%B0%A8.ipynb\" target=\"_parent\"><img src=\"https://colab.research.google.com/assets/colab-badge.svg\" alt=\"Open In Colab\"/></a>"
      ]
    },
    {
      "cell_type": "markdown",
      "source": [
        "## 끝말잇기 \n",
        "\n",
        "문제\n",
        "\n",
        "\n",
        "끝말잇기 게임을 할 수 있는 코드를 작성해보세요.\n",
        "\n",
        "조건 1 : 두 번째 단어 입력부터는 앞의 단어의 마지막 글자와 동일한 글자로 시작되어야 합니다(ex. 기차 → 차○). 만약 다른 글자로 시작하게 된다면 게임을 종료합니다.\n",
        "\n",
        "조건 2 : 5의 배수 번째 단어에서는 현재까지 몇 개의 단어를 입력했는지 알려줘야 합니다.\n",
        "\n",
        "조건 3 : 앞에서 입력했던 단어와 동일한 단어를 입력한다면 게임을 종료합니다.\n",
        "\n",
        "\n",
        "[입력예시] \n",
        "\n",
        "사과\n",
        "과일\n",
        "일상\n",
        "상자\n",
        "자석\n",
        "(중간 점검) 현재 5개의 단어를 입력하셨습니다.\n",
        "석사\n",
        "사과\n",
        "\n",
        "[출력예시] \n",
        "\n",
        "앞에서 사용한 단어와 동일한 단어를 입력하셨습니다. 게임을 종료합니다.\n",
        "\n"
      ],
      "metadata": {
        "id": "pDuWBHO4Fs01"
      }
    },
    {
      "cell_type": "code",
      "execution_count": 10,
      "metadata": {
        "colab": {
          "base_uri": "https://localhost:8080/"
        },
        "id": "fLloVnJdFnTS",
        "outputId": "641341d9-0c76-4d53-93a6-43384053b8d1"
      },
      "outputs": [
        {
          "output_type": "stream",
          "name": "stdout",
          "text": [
            "끝말잇기 시작 !\n",
            "과일\n",
            "일상\n",
            "상상\n",
            "상모\n",
            "모과\n",
            "현재까지 입력한 단어는 5개 입니다.\n",
            "과도\n",
            "토미\n",
            "틀린 끝말잇기 입니다.\n"
          ]
        }
      ],
      "source": [
        "word_list = [] \n",
        "\n",
        "print('끝말잇기 시작 !')\n",
        "\n",
        "stopper = True\n",
        "while stopper :  ## 무한 반복 \n",
        "  word = input()\n",
        "  word_list.append(word)\n",
        "\n",
        "  ## 5의 배수일 때 \n",
        "  if len(word_list)%5 == 0:   \n",
        "    print(f'현재까지 입력한 단어는 {len(word_list)}개 입니다.')\n",
        "  \n",
        "  ## 이미 입력한 단어 들어왔을 때 나가기.  \n",
        "  set_list = set(word_list) # 중복제거\n",
        "  \n",
        "  for wo in word_list: \n",
        "    if len(word_list) != len(set_list) : \n",
        "      stopper = False \n",
        "  \n",
        "  dup = []\n",
        "  new_list = []\n",
        "  ## 끝말잇기 규칙 맞는지 단어 확인 \n",
        "  if len(word_list) >1:\n",
        "    for w in word_list[-2]: \n",
        "      new_list.append(w)\n",
        "    for x in word_list[-1]:\n",
        "      dup.append(x)\n",
        "    if new_list[-1] != dup[0]:\n",
        "      print('틀린 끝말잇기 입니다.')\n",
        "      stopper = False\n"
      ]
    },
    {
      "cell_type": "markdown",
      "source": [
        "## 기차의 최대인원 \n",
        "\n",
        "역이 4개 존재하는 기차가 있습니다. \n",
        "\n",
        "타고 내리는 사람의 명 수가 주어졌을 때, 기차 내에 가장 많은 사람이 존재하는 경우의 사람 수를 출력하는 프로그램을 작성해주세요.\n",
        "\n",
        "조건 1 : 처음 기차에 타고 있는 사람은 0명입니다.\n",
        "\n",
        "조건 2 : 입력 값은 \"(내리는 인원) (타는 인원)\"으로 주어집니다. 처음 기차에 타고 있는 사람이 0명이므로 처음 내리는 인원은 0명입니다.\n",
        "\n",
        "조건 3 : 인원이 음수가 될 경우 오류 메시지를 출력합니다.\n",
        "\n",
        "[입력예시]\n",
        "\n",
        "0 16\n",
        "12 8\n",
        "2 15\n",
        "5 5\n",
        "\n",
        "[출력예시]\n",
        "\n",
        "25"
      ],
      "metadata": {
        "id": "_3cHNVSfPSTN"
      }
    },
    {
      "cell_type": "code",
      "source": [
        "count = 0 \n",
        "\n",
        "for i in range(4):\n",
        "  while (count>=0):\n",
        "    off, on = map(int,input('내리는 인원 타는 인원').split())\n",
        "    count -=off\n",
        "    count +=on\n",
        "    \n",
        "    ## 인원 수<0 이면 에러메시지 \n",
        "    if count <0:   \n",
        "      print('Error ! ')\n",
        "\n",
        "print(f'현재인원은 {count}입니다.')\n",
        "  \n",
        " "
      ],
      "metadata": {
        "colab": {
          "base_uri": "https://localhost:8080/"
        },
        "id": "08PwX0OgIIie",
        "outputId": "f17c316a-9ead-46b1-8d4b-5926595c6e68"
      },
      "execution_count": 24,
      "outputs": [
        {
          "output_type": "stream",
          "name": "stdout",
          "text": [
            "내리는 인원 타는 인원40 3\n",
            "Error ! \n",
            "현재인원은 -37입니다.\n"
          ]
        }
      ]
    }
  ]
}