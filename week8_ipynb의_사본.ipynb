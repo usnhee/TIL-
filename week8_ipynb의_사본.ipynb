{
  "nbformat": 4,
  "nbformat_minor": 0,
  "metadata": {
    "colab": {
      "provenance": [],
      "collapsed_sections": [],
      "authorship_tag": "ABX9TyM/sv6VCV9CPBNjv36y7mAU",
      "include_colab_link": true
    },
    "kernelspec": {
      "name": "python3",
      "display_name": "Python 3"
    },
    "language_info": {
      "name": "python"
    }
  },
  "cells": [
    {
      "cell_type": "markdown",
      "metadata": {
        "id": "view-in-github",
        "colab_type": "text"
      },
      "source": [
        "<a href=\"https://colab.research.google.com/github/usnhee/TIL-/blob/master/week8_ipynb%EC%9D%98_%EC%82%AC%EB%B3%B8.ipynb\" target=\"_parent\"><img src=\"https://colab.research.google.com/assets/colab-badge.svg\" alt=\"Open In Colab\"/></a>"
      ]
    },
    {
      "cell_type": "code",
      "execution_count": null,
      "metadata": {
        "colab": {
          "base_uri": "https://localhost:8080/"
        },
        "id": "Unua3B_GSKzS",
        "outputId": "e45f0075-8ac0-48f2-ae05-68c169716eda"
      },
      "outputs": [
        {
          "output_type": "stream",
          "name": "stdout",
          "text": [
            "괄호 입력:(((((((())\n",
            "올바른 괄호가 아닙니다.\n"
          ]
        }
      ],
      "source": [
        "## Q21\n",
        "'''\n",
        "프로그래밍에서 괄호는 반드시 바르게 짝지어져 나와야만 합니다.\n",
        "\n",
        "바르게 짝지어진다는 의미는, ' ( ' 문자로 열렸을 때 반드시 해당 짝으로 ' ) ' 가 나와야 한다는 의미입니다.\n",
        "\n",
        "'(', ')'로만 이루어진 문자열 S가 주어졌을 때, S가 바르게 짝지어진 괄호인지 아닌지 판정 하세요.\n",
        "'''\n",
        "\n",
        "paren = list(input('괄호 입력:'))\n",
        "a=0\n",
        "b=0\n",
        "\n",
        "for pa in paren:\n",
        "  if pa== '(':\n",
        "    a+=1\n",
        "  if pa ==')':\n",
        "    b+=1\n",
        "if a==b:\n",
        "    print('올바른 괄호입니다.')\n",
        "elif a!=b:\n",
        "    print('올바른 괄호가 아닙니다.')"
      ]
    },
    {
      "cell_type": "code",
      "source": [
        "## Q22\n",
        "'''\n",
        "변수가 가지고 있는 동전은 총 N종류이고, 그 동전들을 사용해서 그 가치의 합을 X로 만들려고 합니다.\n",
        "\n",
        "이 때 필요한 동전의 개수를 최소로 하는 프로그램을 만들어 보세요.\n",
        "\n",
        "첫째 줄에는 N과 X가 주어지고,\n",
        "\n",
        "둘째 줄 부터는 N개의 줄에 각각 동전의 가치가 오름차순으로 주어집니다.\n",
        "\n",
        "( 단, 각 동전의 가치는 이전 동전의 가치의 배수 )\n",
        "\n",
        "'''\n",
        "N, X = input('동전종류, 금액 입력(띄어쓰기): ').split()\n",
        "cnt =0\n",
        "coins = []\n",
        "\n",
        "## 동전단위갯수 N개만큼 입력 받음. \n",
        "for i in range(int(N)): \n",
        "  val = int(input('한 단위 입력 후 엔터'))\n",
        "  coins.append(val)\n",
        "\n",
        "co_coins=sorted(coins)             ## 오름차순으로 단위 정렬 \n",
        "re_coins = reversed(co_coins)      ## 내림차순으로 재정렬\n",
        "\n",
        "## 동전 큰 단위로 채워넣기 \n",
        "for coin in re_coins:\n",
        "  cnt+=int(X)//coin    ## 큰 단위부터 count에 넣음. \n",
        "  X=int(X)%coin        ## 큰 단위 동전 나눈 후 나머지를 다시 저장. \n",
        "\n",
        "\n",
        "print(f'큰 단위부터 채운 동전의 갯수는 {cnt}개입니다.')\n"
      ],
      "metadata": {
        "colab": {
          "base_uri": "https://localhost:8080/"
        },
        "id": "DrjRbXYGVLU6",
        "outputId": "ff68723f-ec5b-4e40-8043-45dc9c15cccf"
      },
      "execution_count": null,
      "outputs": [
        {
          "output_type": "stream",
          "name": "stdout",
          "text": [
            "동전종류, 금액 입력(띄어쓰기): 5 4304\n",
            "한 단위 입력 후 엔터1\n",
            "한 단위 입력 후 엔터30\n",
            "한 단위 입력 후 엔터10\n",
            "한 단위 입력 후 엔터500\n",
            "한 단위 입력 후 엔터200\n",
            "큰 단위부터 채운 동전의 갯수는 17개입니다.\n"
          ]
        }
      ]
    }
  ]
}