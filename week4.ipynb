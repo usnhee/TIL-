{
  "nbformat": 4,
  "nbformat_minor": 0,
  "metadata": {
    "colab": {
      "provenance": [],
      "authorship_tag": "ABX9TyN6n3lUxJ1KW9JmpxsoPRzL",
      "include_colab_link": true
    },
    "kernelspec": {
      "name": "python3",
      "display_name": "Python 3"
    },
    "language_info": {
      "name": "python"
    }
  },
  "cells": [
    {
      "cell_type": "markdown",
      "metadata": {
        "id": "view-in-github",
        "colab_type": "text"
      },
      "source": [
        "<a href=\"https://colab.research.google.com/github/usnhee/TIL-/blob/master/week4.ipynb\" target=\"_parent\"><img src=\"https://colab.research.google.com/assets/colab-badge.svg\" alt=\"Open In Colab\"/></a>"
      ]
    },
    {
      "cell_type": "code",
      "source": [
        "## Q10\n",
        "'''\n",
        "공백으로 구분된 문자열 형태의 두 숫자를 입력받고, \n",
        "\n",
        "n을 입력받아 두 숫자 사이에 존재하는 n의 배수를 구해보세요.\n",
        "\n",
        "조건 1 : 숫자 두 개는 공백(스페이스 바)로 구분되어 입력됩니다.\n",
        "조건 2 : 숫자 두 개는 문자열 형태로 입력됩니다.\n",
        "조건 3 : 입력된 숫자를 포함하여 배수를 출력해보세요.\n",
        "\n",
        "[입출력 예시]\n",
        "in\n",
        "숫자 두 개를 입력해주세요(ex. '3 5'): 2 21\n",
        "배수를 알고 싶은 숫자를 입력해주세요: 5\n",
        "out\n",
        "5 10 15 20\n",
        "'''\n",
        "## 두번째 숫자가 배수 알고 싶은 숫자보다 작으면 나오기 \n",
        "## 첫번째 숫자 // 시드 숫자 해서 몇배 큰지 몫 구하고 그 배수부터 시작. \n",
        "## 배수 1씩 늘리고 if 두번째 숫자보다 크면 멈춤.  \n",
        "\n",
        "a, b = map(int, input('숫자 두 개를 입력해주세요: ').split())      ## 범위값 입력(a~b) \n",
        "c= int(input('배수를 알고 싶은 숫자를 입력해주세요: '))\n",
        "\n",
        "answers=[]\n",
        "if b<c:                                   ## 배수구하려는 수가 최대 범위를 넘는 경우 \n",
        "  print('범위값을 정확히 입력해주세요')\n",
        "else:\n",
        "  end=b//c                                ## 최대값에 맞춰 배수범위 설정\n",
        "  for i in range(end+1):\n",
        "    t=c*i\n",
        "    if t>=a:                          \n",
        "      ans =t\n",
        "      answers.append(ans)\n",
        "\n",
        "  for ans in answers:\n",
        "    print(ans)"
      ],
      "metadata": {
        "colab": {
          "base_uri": "https://localhost:8080/"
        },
        "id": "EDlvjVwkBGW5",
        "outputId": "d3cafde0-7693-465f-f352-eaa0bcaf4813"
      },
      "execution_count": null,
      "outputs": [
        {
          "output_type": "stream",
          "name": "stdout",
          "text": [
            "숫자 두 개를 입력해주세요: 3 30\n",
            "배수를 알고 싶은 숫자를 입력해주세요: 5\n",
            "5\n",
            "10\n",
            "15\n",
            "20\n",
            "25\n",
            "30\n"
          ]
        }
      ]
    },
    {
      "cell_type": "code",
      "source": [
        "## Q11\n",
        "'''\n",
        "숫자를 입력받고, 숫자 3자리마다 콤마를 찍어 출력하는 프로그램을 작성해주세요.\n",
        "\n",
        "조건 1 : 4자리 미만의 숫자라면 콤마를 찍지 않습니다.\n",
        "조건 2 : 숫자의 길이는 20을 넘지 않습니다.\n",
        "\n",
        "[입출력예시]\n",
        "in\n",
        "12345\n",
        "out\n",
        "12,345\n",
        "'''\n",
        "\n",
        "## if len(in) < 4 -> print(in)\n",
        "## elif len(in) >=20 -> print(error)\n",
        "## else in[-4] append(,)  in[-8] append(,)\n",
        "num_list = []\n",
        "num = input('숫자를 입력해주세요: ')\n",
        "if len(num) < 4:\n",
        "  print(num)\n",
        "elif len(num) < 20 :\n",
        "  result = '{0:,}'.format(int(num)) \n",
        "else : \n",
        "  print('숫자는 20자리 미만이어야 합니다.')\n",
        "\n",
        "print(result)"
      ],
      "metadata": {
        "colab": {
          "base_uri": "https://localhost:8080/"
        },
        "id": "Y6s2foQkQURT",
        "outputId": "c3a3fc22-7679-41e7-91b1-dfa3b8efab10"
      },
      "execution_count": 2,
      "outputs": [
        {
          "output_type": "stream",
          "name": "stdout",
          "text": [
            "숫자를 입력해주세요: 12345\n",
            "12,345\n"
          ]
        }
      ]
    }
  ]
}