{
 "cells": [
  {
   "cell_type": "code",
   "execution_count": 3,
   "metadata": {},
   "outputs": [
    {
     "name": "stdout",
     "output_type": "stream",
     "text": [
      "이진 탐색 트리 구성 완료!\n",
      "바바무 is not in this tree..*\n"
     ]
    }
   ],
   "source": [
    "## 함수\n",
    "class TreeNode() :\n",
    "    def __init__(self):\n",
    "        self.left = None\n",
    "        self.data = None\n",
    "        self.right = None\n",
    "## 전역\n",
    "memory=[]\n",
    "root = None\n",
    "nameAry = ['블랙핑크', '레드벨벳', '마마무', '에이핑크', '걸스데이', '트와이스']\n",
    "\n",
    "## 메인\n",
    "node = TreeNode()\n",
    "node.data = nameAry[0]\n",
    "root = node\n",
    "memory.append(node)\n",
    "\n",
    "for name in nameAry[1:] :  # ['레드벨벳', '마마무', '에이핑크', '걸스데이', '트와이스']\n",
    "    node = TreeNode()\n",
    "    node.data = name\n",
    "\n",
    "    current = root\n",
    "    while True :\n",
    "        if (current.data > name) :\n",
    "            if (current.left == None) :\n",
    "                current.left = node\n",
    "                break\n",
    "            current = current.left\n",
    "        else :\n",
    "            if (current.right == None):\n",
    "                current.right = node\n",
    "                break\n",
    "            current = current.right\n",
    "    memory.append(node)\n",
    "\n",
    "print('이진 탐색 트리 구성 완료!')\n",
    "\n",
    "findName = '바바무'\n",
    "\n",
    "current = root \n",
    "while True : \n",
    "    if current.data ==findName : \n",
    "        print(findName, \"is found! yay!\")\n",
    "        break\n",
    "    elif current.data > findName : \n",
    "        if current.left == None : \n",
    "            print(findName, 'is not in this tree..')\n",
    "            break\n",
    "        current = current.left\n",
    "    else : \n",
    "        if current.right == None : \n",
    "            print(findName, 'is not in this tree..*')\n",
    "            break\n",
    "        current = current.right\n",
    "\n",
    "        \n"
   ]
  }
 ],
 "metadata": {
  "interpreter": {
   "hash": "b2175d25d486a1aea0c4aada00ccf97fc3dc912815c910d75b0e3440d20dd4b0"
  },
  "kernelspec": {
   "display_name": "Python 3.9.9 64-bit (windows store)",
   "language": "python",
   "name": "python3"
  },
  "language_info": {
   "codemirror_mode": {
    "name": "ipython",
    "version": 3
   },
   "file_extension": ".py",
   "mimetype": "text/x-python",
   "name": "python",
   "nbconvert_exporter": "python",
   "pygments_lexer": "ipython3",
   "version": "3.9.9"
  },
  "orig_nbformat": 4
 },
 "nbformat": 4,
 "nbformat_minor": 2
}
