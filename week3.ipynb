{
  "nbformat": 4,
  "nbformat_minor": 0,
  "metadata": {
    "colab": {
      "name": "week3.ipynb",
      "provenance": [],
      "collapsed_sections": [],
      "include_colab_link": true
    },
    "kernelspec": {
      "name": "python3",
      "display_name": "Python 3"
    },
    "language_info": {
      "name": "python"
    }
  },
  "cells": [
    {
      "cell_type": "markdown",
      "metadata": {
        "id": "view-in-github",
        "colab_type": "text"
      },
      "source": [
        "<a href=\"https://colab.research.google.com/github/usnhee/TIL-/blob/master/week3.ipynb\" target=\"_parent\"><img src=\"https://colab.research.google.com/assets/colab-badge.svg\" alt=\"Open In Colab\"/></a>"
      ]
    },
    {
      "cell_type": "code",
      "execution_count": null,
      "metadata": {
        "colab": {
          "base_uri": "https://localhost:8080/"
        },
        "id": "HEN3AG96_P3c",
        "outputId": "b868e620-e9e2-44a0-c0ef-b48c3dd57330"
      },
      "outputs": [
        {
          "output_type": "stream",
          "name": "stdout",
          "text": [
            "나무의 높이 N, 달팽이가 낮에 올라가는 높이 A, 밤에 미끄러지는 거리 B를 입력해주세요: 10 1 2\n",
            " -1일이 걸립니다. \n"
          ]
        }
      ],
      "source": [
        "## Q6 \n",
        "'''\n",
        "달팽이는 높이가 N인 나무를 올라가고자 한다.\n",
        "\n",
        "달팽이는 낮에는 A미터를 올라갈 수 있지만, 밤에 휴식을 취하면서 B미터 미끄러져 내려온다.\n",
        "\n",
        "달팽이가 나무 정상에 도달하기 위해선 며칠이 걸릴까?\n",
        "\n",
        "첫 번째 줄에 A, B, N이 공백으로 구분되어 주어집니다.\n",
        "정상에 도달하는게 불가능할 경우, -1을 출력하세요.\n",
        "'''\n",
        "\n",
        "n,a,b = map(int,input('나무의 높이 N, 달팽이가 낮에 올라가는 높이 A, 밤에 미끄러지는 거리 B를 입력해주세요: ').split())\n",
        "\n",
        "up = a-b \n",
        "if a>n:\n",
        "  day=1\n",
        "elif up < 0:\n",
        "  day = -1 \n",
        "else:\n",
        "  day= n//up \n",
        "\n",
        "print(f' {day}일이 걸립니다. ')\n"
      ]
    },
    {
      "cell_type": "code",
      "source": [
        "## Q7\n",
        "'''\n",
        "수많은 사람들이 모각코에 참여하였습니다. 그 중 단 한명을 제외하곤 모두가 모각코를 수료했네요!\n",
        "\n",
        "모각코에 참여한 사람들의 이름이 담긴 배열과 수료한 사람들의 이름이 담긴 배열이 주어질 때,\n",
        "\n",
        "수료하지 못한 사람의 이름을 리턴하도록 함수를 작성 해 보세요.\n",
        "\n",
        "참가자 중에는 동명이인이 존재합니다.\n",
        "\n",
        "[입출력예시]\n",
        "in \n",
        "solution(['곰', '곰', '망고', '김변수', '곰'], ['김변수', '망고', '곰', '곰'])\n",
        "out\n",
        "곰\n",
        "'''\n",
        "\n",
        "student = list(input('학생들의 이름을 입력하세요: ').split())\n",
        "complete = list(input('수료한 학생들의 이름을 입력하세요: ').split())\n",
        "def solution(student, complete):\n",
        "  for comp in complete:  ## 수료 리스트 중에서 \n",
        "    if comp in student:  ## 참가자에도 수료자가 있으면 \n",
        "      student.remove(comp)   ## 참가자에서 지우기 \n",
        "  return student \n",
        "\n",
        "solution(student, complete)\n",
        "\n",
        "\n"
      ],
      "metadata": {
        "colab": {
          "base_uri": "https://localhost:8080/"
        },
        "id": "j3Z7XGD6INXr",
        "outputId": "2245d455-c26c-4057-bcf6-3e5571bcb442"
      },
      "execution_count": null,
      "outputs": [
        {
          "name": "stdout",
          "output_type": "stream",
          "text": [
            "학생들의 이름을 입력하세요: 김이박 곰 곰 쿠팡맨 세균맨\n",
            "수료한 학생들의 이름을 입력하세요: 곰 쿠팡맨\n"
          ]
        },
        {
          "output_type": "execute_result",
          "data": {
            "text/plain": [
              "['김이박', '곰', '세균맨']"
            ]
          },
          "metadata": {},
          "execution_count": 6
        }
      ]
    },
    {
      "cell_type": "code",
      "source": [
        "from re import I\n",
        "## Q8\n",
        "'''\n",
        "정수를 소수의 곱만으로 표현하는 것을 소인수분해라고 합니다.\n",
        "\n",
        "소인수분해 프로그램을 작성해보세요.\n",
        "\n",
        "\n",
        "\n",
        "⭐ 힌트 👉 소인수분해 과정 예시 (숫자 12를 소인수분해하는 과정)\n",
        "\n",
        "먼저, 숫자 12를 가장 작은 소수인 2로 나눕니다.\n",
        "12은 2로 나누어떨어지므로, 2는 12의 소인수입니다. → 2\n",
        "12을 2로 나눈 값 6을 다시 2로 나눕니다.\n",
        "6은 2로 나누어떨어지므로, 2는 6의 소인수입니다. → 2\n",
        "6을 2로 나눈 값 3을 다시 2로 나눕니다.\n",
        "3은 2로 나누어떨어지지 않습니다.\n",
        "3을 2 다음으로 작은 소수인 3으로 나눕니다.\n",
        "3은 3으로 나누어떨어지므로 3은 소인수입니다. →3\n",
        "3을 3으로 나눈 값은 1인데, 나누는 수 3이 나눠지는 수 1보다 크기 때문에 계산을 종료합니다.\n",
        "\n",
        "[예시]\n",
        "숫자를 입력해주세요: 2132\n",
        "2\n",
        "2\n",
        "13\n",
        "41\n",
        "'''\n",
        "\n",
        "num = int(input('숫자를 입력해주세요: '))\n",
        "\n",
        "def is_prime(num):           ## 소수인지 판별\n",
        "  if num == 0 or num == 1 :   ## 0이나 1이면 소수아님 \n",
        "    return False\n",
        "  for i in range(2, num):    ## 2~num 까지 \n",
        "    if num%i == 0:           ## num을 i로 나눠서 나머지가 0 이면 \n",
        "      return False           ## 소수 아님 \n",
        "  return True                ## num까지 나눠봤는데 안나눠떨어지면 소수 \n",
        "\n",
        "\n",
        "\n",
        "def factorization():\n",
        "  i=2\n",
        "  global num\n",
        "  while True:\n",
        "    if is_prime(i) == True and num%i == 0: ## 소수 i and i 로 나눠지면   \n",
        "      print(i)                             ## 소수 i 출력 \n",
        "      num=num//i                           ## 몫 값 num에 저장\n",
        "    elif num ==1:                          ## num이 1이 되면 탈출\n",
        "      break\n",
        "    else: \n",
        "      i+=1                                 ## 소수 i 증가시키기 \n",
        "\n",
        "\n",
        "factorization()"
      ],
      "metadata": {
        "colab": {
          "base_uri": "https://localhost:8080/"
        },
        "id": "-iv6npeSVXiO",
        "outputId": "edc526d5-1dab-4f43-ae2e-7beb0aa71dc3"
      },
      "execution_count": null,
      "outputs": [
        {
          "output_type": "stream",
          "name": "stdout",
          "text": [
            "숫자를 입력해주세요: 2\n",
            "2\n"
          ]
        }
      ]
    },
    {
      "cell_type": "code",
      "source": [
        "## Q9\n",
        "\n",
        "'''\n",
        "알파벳 대/소문자로 된 문장이 주어질 때, \n",
        "\n",
        "이 문장에서 가장 많이 사용된 알파벳이 무엇인지 알아내서 출력 해 보세요.\n",
        "\n",
        "단, 대/소문자는 구분하지 않습니다.\n",
        "가장 많이 사용 된 알파벳이 여러 개 존재하는 경우 모두 출력합니다.\n",
        "'''\n",
        "\n",
        "sentence = input('영어 문장을 입력해주세요: ').lower()\n",
        "s_list = list(set(sentence))               ## 중복없애서 리스트에 알파벳저장\n",
        "cnt_list =[]\n",
        "\n",
        "for i in s_list:                           ## 중복없는 알파벳 꺼내서 \n",
        "  cnt = sentence.count(i)                  ## 원문장내에 각 알파벳별 갯수를 세서 저장 \n",
        "  cnt_list.append(cnt)\n",
        "\n",
        "ele = []\n",
        "for i in range(len(s_list)):\n",
        "  if cnt_list[i]==max(cnt_list):           ## 알파벳별 갯수 리스트에서 최댓값인 값이 있으면\n",
        "    ele.append(s_list[i])                  ## 해당 알파벳을 ele에 저장 \n",
        "\n",
        "print(','.join(ele))\n",
        "\n",
        "\n"
      ],
      "metadata": {
        "colab": {
          "base_uri": "https://localhost:8080/"
        },
        "id": "gCJquEUIjSR9",
        "outputId": "9a53a8f6-1e23-4d71-b21d-8d5028462c32"
      },
      "execution_count": null,
      "outputs": [
        {
          "output_type": "stream",
          "name": "stdout",
          "text": [
            "영어 문장을 입력해주세요: apple is the best ever\n",
            "e\n"
          ]
        }
      ]
    }
  ]
}