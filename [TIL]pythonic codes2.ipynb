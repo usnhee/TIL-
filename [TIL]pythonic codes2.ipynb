{
 "cells": [
  {
   "cell_type": "code",
   "execution_count": 2,
   "id": "a4d0cbfb",
   "metadata": {},
   "outputs": [
    {
     "name": "stdout",
     "output_type": "stream",
     "text": [
      "1 (2, 3, 4, 5, 6)\n",
      "<class 'tuple'>\n"
     ]
    }
   ],
   "source": [
    "def asterisk_test(a,*args):\n",
    "    print(a,args)\n",
    "    print(type(args))\n",
    "    \n",
    "asterisk_test(1,2,3,4,5,6)"
   ]
  },
  {
   "cell_type": "code",
   "execution_count": 3,
   "id": "4fec0648",
   "metadata": {},
   "outputs": [
    {
     "name": "stdout",
     "output_type": "stream",
     "text": [
      "1 {'b': 2, 'c': 3, 'd': 4, 'e': 5, 'f': 6}\n",
      "<class 'dict'>\n"
     ]
    }
   ],
   "source": [
    "def asterisk_test(a, **kargs):\n",
    "    print(a, kargs)\n",
    "    print(type(kargs))\n",
    "    \n",
    "asterisk_test(1, b=2, c=3, d=4, e=5, f=6)"
   ]
  },
  {
   "cell_type": "code",
   "execution_count": 11,
   "id": "84ffeed6",
   "metadata": {},
   "outputs": [
    {
     "name": "stdout",
     "output_type": "stream",
     "text": [
      "1 (2, 3, 4, 5, 6)\n",
      "<class 'tuple'>\n"
     ]
    }
   ],
   "source": [
    "def asterisk_test(a,*args):\n",
    "    print(a, args[0])\n",
    "    print(type(args))\n",
    "    \n",
    "asterisk_test(1, (2,3,4,5,6))\n"
   ]
  },
  {
   "cell_type": "code",
   "execution_count": 6,
   "id": "377128fd",
   "metadata": {},
   "outputs": [
    {
     "name": "stdout",
     "output_type": "stream",
     "text": [
      "1 2 3 4 5 6\n",
      "<class 'tuple'>\n"
     ]
    }
   ],
   "source": [
    "def asterisk_test(a,args):\n",
    "    print(a,*args)\n",
    "    print(type(args))\n",
    "    \n",
    "asterisk_test(1,(2,3,4,5,6))"
   ]
  },
  {
   "cell_type": "code",
   "execution_count": 12,
   "id": "dfc95c5b",
   "metadata": {},
   "outputs": [
    {
     "name": "stdout",
     "output_type": "stream",
     "text": [
      "[1, 2] [3, 4] [5, 6]\n"
     ]
    }
   ],
   "source": [
    "a, b, c = ([1,2], [3,4], [5,6])\n",
    "print(a,b,c)\n"
   ]
  },
  {
   "cell_type": "code",
   "execution_count": 13,
   "id": "52ae8301",
   "metadata": {},
   "outputs": [
    {
     "name": "stdout",
     "output_type": "stream",
     "text": [
      "[1, 2] [3, 4] [5, 6]\n"
     ]
    }
   ],
   "source": [
    "data = ([1,2], [3,4], [5,6])\n",
    "print(*data)"
   ]
  },
  {
   "cell_type": "code",
   "execution_count": 14,
   "id": "d8a80208",
   "metadata": {},
   "outputs": [
    {
     "name": "stdout",
     "output_type": "stream",
     "text": [
      "10 1 2 3\n"
     ]
    }
   ],
   "source": [
    "def asterisk_test(a,b,c,d):\n",
    "    print(a,b,c,d)\n",
    "    \n",
    "data={\"b\":1, \"c\":2, \"d\":3}\n",
    "asterisk_test(10,**data)"
   ]
  },
  {
   "cell_type": "code",
   "execution_count": 15,
   "id": "93c9d2c7",
   "metadata": {},
   "outputs": [
    {
     "name": "stdout",
     "output_type": "stream",
     "text": [
      "(1, 3, 5)\n",
      "(2, 4, 6)\n"
     ]
    }
   ],
   "source": [
    "for data in zip(*([1,2],[3,4],[5,6])):\n",
    "    print(data)"
   ]
  },
  {
   "cell_type": "code",
   "execution_count": 24,
   "id": "89936ca8",
   "metadata": {},
   "outputs": [
    {
     "name": "stdout",
     "output_type": "stream",
     "text": [
      "deque([0, 1, 2, 3, 4])\n",
      "deque([19, 0, 1, 2, 3, 4])\n",
      "<class 'collections.deque'>\n",
      "deque([3, 4, 19, 0, 1, 2])\n",
      "deque([1, 2, 3, 4, 19, 0])\n",
      "deque([1, 2, 3, 4, 19, 0, 5, 6, 7])\n",
      "deque([7, 6, 5, 1, 2, 3, 4, 19, 0, 5, 6, 7])\n",
      "deque([7, 6, 5, 1, 2, 3, 4, 19, 0, 5, 6, 7])\n",
      "deque([7, 6, 5, 0, 19, 4, 3, 2, 1, 5, 6, 7])\n"
     ]
    }
   ],
   "source": [
    "from collections import deque\n",
    "\n",
    "deque_list = deque()\n",
    "for i in range(5):\n",
    "    deque_list.append(i)\n",
    "print(deque_list)\n",
    "\n",
    "deque_list.appendleft(19)\n",
    "print(deque_list)\n",
    "print(type(deque_list))\n",
    "\n",
    "deque_list.rotate(2)\n",
    "print(deque_list)\n",
    "deque_list.rotate(2)\n",
    "print(deque_list)\n",
    "\n",
    "deque_list.extend([5,6,7])\n",
    "print(deque_list)\n",
    "deque_list.extendleft([5,6,7])\n",
    "print(deque_list)\n",
    "\n",
    "print(deque_list)\n",
    "print(deque(reversed(deque_list)))"
   ]
  },
  {
   "cell_type": "code",
   "execution_count": 27,
   "id": "79259d38",
   "metadata": {},
   "outputs": [
    {
     "name": "stdout",
     "output_type": "stream",
     "text": [
      "13.0 seconds\n"
     ]
    }
   ],
   "source": [
    "from collections import deque\n",
    "import time\n",
    "\n",
    "start_time = time.process_time()\n",
    "deque_list = deque()\n",
    "\n",
    "for i in range(10000):\n",
    "    for i in range(10000):\n",
    "        deque_list.append(i)\n",
    "        deque_list.pop()\n",
    "print(time.process_time() - start_time, \"seconds\")"
   ]
  },
  {
   "cell_type": "code",
   "execution_count": 32,
   "id": "1215c1e5",
   "metadata": {},
   "outputs": [
    {
     "name": "stdout",
     "output_type": "stream",
     "text": [
      "x 100\n",
      "y 200\n",
      "z 300\n",
      "l 500\n"
     ]
    }
   ],
   "source": [
    "d = {}\n",
    "d['x'] = 100 \n",
    "d['y'] = 200 \n",
    "d['z'] = 300\n",
    "d['l'] = 500 \n",
    "\n",
    "for k, v in d.items():\n",
    "    print(k,v)"
   ]
  },
  {
   "cell_type": "code",
   "execution_count": 29,
   "id": "5d3f5e83",
   "metadata": {},
   "outputs": [
    {
     "name": "stdout",
     "output_type": "stream",
     "text": [
      "x 100\n",
      "y 200\n",
      "z 300\n",
      "l 500\n"
     ]
    }
   ],
   "source": [
    "from collections import OrderedDict\n",
    "d = OrderedDict()\n",
    "d['x'] = 100\n",
    "d['y'] = 200\n",
    "d['z'] = 300\n",
    "d['l'] = 500\n",
    "\n",
    "for k,v in d.items():\n",
    "    print(k,v)"
   ]
  },
  {
   "cell_type": "code",
   "execution_count": 30,
   "id": "242020fd",
   "metadata": {},
   "outputs": [
    {
     "name": "stdout",
     "output_type": "stream",
     "text": [
      "32.78125 seconds\n"
     ]
    }
   ],
   "source": [
    "start_time = time.process_time()\n",
    "just_list =[]\n",
    "for i in range(10000):\n",
    "    for i in range(10000):\n",
    "        just_list.append(i)\n",
    "        just_list.pop()\n",
    "print(time.process_time()-start_time, \"seconds\")"
   ]
  },
  {
   "cell_type": "code",
   "execution_count": 38,
   "id": "003ef745",
   "metadata": {},
   "outputs": [
    {
     "name": "stdout",
     "output_type": "stream",
     "text": [
      "x 100\n",
      "y 200\n",
      "z 300\n",
      "l 500\n"
     ]
    }
   ],
   "source": [
    "from collections import OrderedDict\n",
    "d = OrderedDict()\n",
    "d['x'] = 100\n",
    "d['y'] = 200\n",
    "d['z'] = 300\n",
    "d['l'] = 500\n",
    "\n",
    "\n",
    "for k,v in OrderedDict(sorted(d.items(), key = lambda t: t[1])).items():\n",
    "    print(k,v)"
   ]
  },
  {
   "cell_type": "code",
   "execution_count": 39,
   "id": "b2d7a1eb",
   "metadata": {},
   "outputs": [
    {
     "ename": "KeyError",
     "evalue": "'first'",
     "output_type": "error",
     "traceback": [
      "\u001b[1;31m---------------------------------------------------------------------------\u001b[0m",
      "\u001b[1;31mKeyError\u001b[0m                                  Traceback (most recent call last)",
      "\u001b[1;32m~\\AppData\\Local\\Temp/ipykernel_13392/93095211.py\u001b[0m in \u001b[0;36m<module>\u001b[1;34m\u001b[0m\n\u001b[0;32m      1\u001b[0m \u001b[0md\u001b[0m \u001b[1;33m=\u001b[0m \u001b[0mdict\u001b[0m\u001b[1;33m(\u001b[0m\u001b[1;33m)\u001b[0m\u001b[1;33m\u001b[0m\u001b[1;33m\u001b[0m\u001b[0m\n\u001b[1;32m----> 2\u001b[1;33m \u001b[0mprint\u001b[0m\u001b[1;33m(\u001b[0m\u001b[0md\u001b[0m\u001b[1;33m[\u001b[0m\u001b[1;34m\"first\"\u001b[0m\u001b[1;33m]\u001b[0m\u001b[1;33m)\u001b[0m\u001b[1;33m\u001b[0m\u001b[1;33m\u001b[0m\u001b[0m\n\u001b[0m",
      "\u001b[1;31mKeyError\u001b[0m: 'first'"
     ]
    }
   ],
   "source": [
    "d = dict()\n",
    "print(d[\"first\"])"
   ]
  },
  {
   "cell_type": "code",
   "execution_count": 40,
   "id": "70cfac68",
   "metadata": {},
   "outputs": [
    {
     "name": "stdout",
     "output_type": "stream",
     "text": [
      "0\n"
     ]
    }
   ],
   "source": [
    "from collections import defaultdict\n",
    "d=defaultdict(object)\n",
    "d=defaultdict(lambda: 0)\n",
    "print(d[\"first\"])"
   ]
  },
  {
   "cell_type": "code",
   "execution_count": 42,
   "id": "c522dd50",
   "metadata": {},
   "outputs": [
    {
     "name": "stdout",
     "output_type": "stream",
     "text": [
      "['a', 'press', 'release', 'is', 'the', 'quickest', 'and', 'easiest', 'way', 'to', 'get', 'free', 'publicity.', 'if', 'well', 'written,', 'a', 'press', 'release', 'can', 'result', 'in', 'multiple', 'published', 'articles', 'about', 'your', 'firm', 'and', 'its', 'products.', 'and', 'that', 'can', 'mean', 'new', 'prospects', 'contacting', 'you', 'asking', 'you', 'to', 'sell', 'them.']\n"
     ]
    }
   ],
   "source": [
    "text = \"\"\"A press release is the quickest and easiest way to get free publicity. If well written, a press release can result in multiple published articles about your firm and its products. And that can mean new prospects contacting you asking you to sell them.\"\"\".lower().split()\n",
    "\n",
    "print(text)"
   ]
  },
  {
   "cell_type": "code",
   "execution_count": 43,
   "id": "419b4f0d",
   "metadata": {},
   "outputs": [
    {
     "name": "stdout",
     "output_type": "stream",
     "text": [
      "and 3\n",
      "a 2\n",
      "press 2\n",
      "release 2\n",
      "to 2\n",
      "can 2\n",
      "you 2\n",
      "is 1\n",
      "the 1\n",
      "quickest 1\n",
      "easiest 1\n",
      "way 1\n",
      "get 1\n",
      "free 1\n",
      "publicity. 1\n",
      "if 1\n",
      "well 1\n",
      "written, 1\n",
      "result 1\n",
      "in 1\n",
      "multiple 1\n",
      "published 1\n",
      "articles 1\n",
      "about 1\n",
      "your 1\n",
      "firm 1\n",
      "its 1\n",
      "products. 1\n",
      "that 1\n",
      "mean 1\n",
      "new 1\n",
      "prospects 1\n",
      "contacting 1\n",
      "asking 1\n",
      "sell 1\n",
      "them. 1\n"
     ]
    }
   ],
   "source": [
    "from collections import OrderedDict\n",
    "word_count = defaultdict(object)\n",
    "word_count = defaultdict(lambda: 0)\n",
    "\n",
    "for word in text:\n",
    "    word_count[word] += 1\n",
    "for i,v in OrderedDict(sorted(word_count.items(),key=lambda t: t[1], reverse=True)).items():\n",
    "    print(i,v)"
   ]
  },
  {
   "cell_type": "code",
   "execution_count": 44,
   "id": "6e991228",
   "metadata": {},
   "outputs": [
    {
     "name": "stdout",
     "output_type": "stream",
     "text": [
      "Counter({'a': 3, 'l': 2, 'g': 1, 'h': 1, 'd': 1})\n"
     ]
    }
   ],
   "source": [
    "from collections import Counter\n",
    "\n",
    "c = Counter()             # a new, empty counter\n",
    "c = Counter('gallahad')   # a new counter from an iterable\n",
    "print(c)"
   ]
  },
  {
   "cell_type": "code",
   "execution_count": 45,
   "id": "e5702c76",
   "metadata": {},
   "outputs": [
    {
     "name": "stdout",
     "output_type": "stream",
     "text": [
      "Counter({'red': 4, 'blue': 2})\n",
      "['red', 'red', 'red', 'red', 'blue', 'blue']\n"
     ]
    }
   ],
   "source": [
    "from collections import Counter\n",
    "\n",
    "c = Counter({'red': 4, 'blue': 2})\n",
    "print(c)\n",
    "print(list(c.elements()))"
   ]
  },
  {
   "cell_type": "code",
   "execution_count": 46,
   "id": "bab96b11",
   "metadata": {},
   "outputs": [
    {
     "name": "stdout",
     "output_type": "stream",
     "text": [
      "Counter({'dogs': 8, 'cats': 4})\n",
      "['cats', 'cats', 'cats', 'cats', 'dogs', 'dogs', 'dogs', 'dogs', 'dogs', 'dogs', 'dogs', 'dogs']\n"
     ]
    }
   ],
   "source": [
    "from collections import Counter\n",
    "\n",
    "c = Counter(cats=4, dogs=8)\n",
    "# a new counter from keyword args\n",
    "print(c)\n",
    "print(list(c.elements()))"
   ]
  },
  {
   "cell_type": "code",
   "execution_count": 47,
   "id": "4ffba7cf",
   "metadata": {},
   "outputs": [
    {
     "name": "stdout",
     "output_type": "stream",
     "text": [
      "Counter({'a': 3, 'b': 0, 'c': -3, 'd': -6})\n"
     ]
    }
   ],
   "source": [
    "from collections import Counter\n",
    "c = Counter(a=4, b=2, c=0, d=-2)\n",
    "d = Counter(a=1, b=2, c=3, d=4)\n",
    "c.subtract(d)  # c-d\n",
    "print(c)"
   ]
  },
  {
   "cell_type": "code",
   "execution_count": 48,
   "id": "db02e354",
   "metadata": {},
   "outputs": [
    {
     "name": "stdout",
     "output_type": "stream",
     "text": [
      "Counter({'and': 3, 'to': 3, 'a': 2, 'press': 2, 'release': 2, 'can': 2, 'you': 2, 'is': 1, 'the': 1, 'quickest': 1, 'easiest': 1, 'way': 1, 'get': 1, 'free': 1, 'publicity.': 1, 'if': 1, 'well': 1, 'written,': 1, 'result': 1, 'in': 1, 'multiple': 1, 'published': 1, 'articles': 1, 'about': 1, 'your': 1, 'firm': 1, 'its': 1, 'products.': 1, 'that': 1, 'mean': 1, 'new': 1, 'prospects': 1, 'contacting': 1, 'asking': 1, 'sell': 1, 'them.': 1, '….': 1})\n",
      "2\n"
     ]
    }
   ],
   "source": [
    "from collections import Counter\n",
    "text = \"\"\"A press release is the quickest and easiest way to get free\n",
    "publicity. If well written, a press release can result in multiple\n",
    "published articles about your firm and its products. And that can mean\n",
    "new prospects contacting you asking you to sell to them.\n",
    "….\"\"\".lower().split()\n",
    "print(Counter(text))\n",
    "print(Counter(text)[\"a\"])"
   ]
  },
  {
   "cell_type": "code",
   "execution_count": 49,
   "id": "0751daf7",
   "metadata": {},
   "outputs": [
    {
     "name": "stdout",
     "output_type": "stream",
     "text": [
      "33\n",
      "11 22\n",
      "33\n",
      "Point(x=11, y=22)\n"
     ]
    }
   ],
   "source": [
    "from collections import namedtuple\n",
    "Point = namedtuple('Point', ['x','y'])\n",
    "p = Point(11,y=22)\n",
    "print(p[0] + p[1])\n",
    "\n",
    "x,y = p\n",
    "print(x,y)\n",
    "print(p.x + p.y)\n",
    "print(Point(x=11,y=22))"
   ]
  },
  {
   "cell_type": "code",
   "execution_count": null,
   "id": "ce4c291e",
   "metadata": {},
   "outputs": [],
   "source": []
  }
 ],
 "metadata": {
  "kernelspec": {
   "display_name": "Python 3 (ipykernel)",
   "language": "python",
   "name": "python3"
  },
  "language_info": {
   "codemirror_mode": {
    "name": "ipython",
    "version": 3
   },
   "file_extension": ".py",
   "mimetype": "text/x-python",
   "name": "python",
   "nbconvert_exporter": "python",
   "pygments_lexer": "ipython3",
   "version": "3.9.7"
  }
 },
 "nbformat": 4,
 "nbformat_minor": 5
}
