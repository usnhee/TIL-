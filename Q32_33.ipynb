{
  "nbformat": 4,
  "nbformat_minor": 0,
  "metadata": {
    "colab": {
      "provenance": [],
      "authorship_tag": "ABX9TyNr3nEhS6nXkbhd0r6SAlHD",
      "include_colab_link": true
    },
    "kernelspec": {
      "name": "python3",
      "display_name": "Python 3"
    },
    "language_info": {
      "name": "python"
    }
  },
  "cells": [
    {
      "cell_type": "markdown",
      "metadata": {
        "id": "view-in-github",
        "colab_type": "text"
      },
      "source": [
        "<a href=\"https://colab.research.google.com/github/usnhee/TIL-/blob/master/Q32_33.ipynb\" target=\"_parent\"><img src=\"https://colab.research.google.com/assets/colab-badge.svg\" alt=\"Open In Colab\"/></a>"
      ]
    },
    {
      "cell_type": "markdown",
      "source": [
        "# Q.32 행렬곱 \n",
        "N x M 크기의 행렬 A와 M x K 크기의 행렬 B가 주어졌을 때, 두 행렬을 곱해서 출력 해 보세요.\n",
        "\n",
        "첫째 줄에는 행렬 A의 크기 N과 M이 주어지며, 둘째 줄 부터 N개의 줄에는 행렬 A의 원소 M개가 순서대로 주어진다.\n",
        "\n",
        "그 다음 줄에는 행렬 B의 크기 M과 K가 주어지며, 이어서 M개의 줄에는 행렬 B의 원소 K개가 순서대로 주어진다.\n",
        "\n",
        "👉 입력예시\n",
        "\n",
        "3 2\n",
        "\n",
        "1 2\n",
        "\n",
        "3 4\n",
        "\n",
        "5 6\n",
        "\n",
        "2 3\n",
        "\n",
        "-1 -2 0\n",
        "\n",
        "0 0 3\n",
        "\n",
        "\n",
        "👉 출력예시\n",
        "\n",
        "-1 -2 6\n",
        "\n",
        "-3 -6 12\n",
        "\n",
        "-5 -10 18\n"
      ],
      "metadata": {
        "id": "VkfzL-IyywoR"
      }
    },
    {
      "cell_type": "markdown",
      "source": [
        "2차원 리스트 만들기-> 행렬 \n",
        "\n",
        "n*k 행렬 생성 \n"
      ],
      "metadata": {
        "id": "wsivABrLA5mD"
      }
    },
    {
      "cell_type": "code",
      "execution_count": null,
      "metadata": {
        "colab": {
          "base_uri": "https://localhost:8080/"
        },
        "id": "nvo0m-QuytQQ",
        "outputId": "2b2f193c-0c74-45c5-c43a-65605384e2c6"
      },
      "outputs": [
        {
          "output_type": "stream",
          "name": "stdout",
          "text": [
            "3 2\n",
            "1 2\n",
            "3 4\n",
            "5 6\n",
            "2 3\n",
            "-1 -2 0 \n",
            "0 0 3\n",
            "[[-1, -2, 6], [-3, -6, 12], [-5, -10, 18]]\n"
          ]
        }
      ],
      "source": [
        "## 1st matrix (N*M)\n",
        "N,M = map(int, input().split())\n",
        "first =[]\n",
        "for i in range(N):\n",
        "  line=[]\n",
        "  first.append(list(map(int,input().split())))\n",
        "  \n",
        "## 2nd matrix (M*K)\n",
        "M, K = map(int,input().split())\n",
        "second = []\n",
        "for j in range(M):\n",
        "  second.append(list(map(int,input().split())))\n",
        "\n",
        "## target matrix (N*K)\n",
        "## make target matrix with zeros\n",
        "matrix = []\n",
        "for i in range(N):\n",
        "  line=[]\n",
        "  for j in range(K):\n",
        "    line.append(0)\n",
        "  matrix.append(line)\n",
        "\n",
        "## product matrix  \n",
        "'''\n",
        "for nn in range(N):\n",
        "  temp=[]\n",
        "  for kk in range(K):\n",
        "    matrix[nn][kk]= first[nn][kk]*second[nn][kk]+first[nn][kk+1]*second[nn+1][kk]\n",
        "'''\n",
        "## M이 공통. 결과 값은 N*K \n",
        "for nn in range(N): \n",
        "  temp = []\n",
        "  for kk in range(K):\n",
        "    for mm in range(M):\n",
        "      matrix[nn][kk] += first[nn][mm]*second[mm][kk]\n",
        "\n",
        "print(matrix)\n"
      ]
    },
    {
      "cell_type": "markdown",
      "source": [
        "더 짧은 코드 참고.\n",
        "https://velog.io/@falling_star3/%ED%94%84%EB%A1%9C%EA%B7%B8%EB%9E%98%EB%A8%B8%EC%8A%A4-Level2-%ED%96%89%EB%A0%AC%EC%9D%98-%EA%B3%B1%EC%85%88\n"
      ],
      "metadata": {
        "id": "2tcsvzTUVyfe"
      }
    },
    {
      "cell_type": "markdown",
      "source": [
        "# Q.33 이어져있나요?\n",
        "\n",
        "가중치 없는 방향그래프 G가 주어졌을 때, 모든 정점 (i , j)에 대해 i에서 j로 가는 경로가 있는지 없는지 출력 해 보세요.\n",
        "\n",
        "첫째 줄에 정점의 개수 N이 주어진다.\n",
        "둘째 줄 부터 N개 줄에는 그래프의 인접 행렬이 주어진다. \n",
        "i번째 줄 j번째 수가 1이라면 i에서 j로 가는 길이 존재한다는 뜻이고, 0인 경우는 없다는 뜻이다.\n",
        "\n",
        "👉 입력예시\n",
        "\n",
        "3\n",
        "\n",
        "0 1 0\n",
        "\n",
        "0 0 1\n",
        "\n",
        "1 0 0\n",
        "\n",
        "\n",
        "👉 출력예시\n",
        "\n",
        "1 1 1\n",
        "\n",
        "1 1 1\n",
        "\n",
        "1 1 1\n",
        "\n",
        "\n",
        "👉 입력예시\n",
        "\n",
        "7\n",
        "\n",
        "0 0 0 1 0 0 0\n",
        "\n",
        "0 0 0 0 0 0 1\n",
        "\n",
        "0 0 0 0 0 0 0\n",
        "\n",
        "0 0 0 0 1 1 0\n",
        "\n",
        "1 0 0 0 0 0 0\n",
        "\n",
        "0 0 0 0 0 0 1\n",
        "\n",
        "0 0 1 0 0 0 0\n",
        "\n",
        "\n",
        "👉 출력예시\n",
        "\n",
        "1 0 1 1 1 1 1\n",
        "\n",
        "0 0 1 0 0 0 1\n",
        "\n",
        "0 0 0 0 0 0 0\n",
        "\n",
        "1 0 1 1 1 1 1\n",
        "\n",
        "1 0 1 1 1 1 1\n",
        "\n",
        "0 0 1 0 0 0 1\n",
        "\n",
        "0 0 1 0 0 0 0\n",
        "\n",
        "\n",
        "https://www.acmicpc.net/problem/11403"
      ],
      "metadata": {
        "id": "aAzEPzx793lQ"
      }
    },
    {
      "cell_type": "code",
      "source": [
        "## input\n",
        "\n",
        "in_mat=[]\n",
        "num = int(input())\n",
        "\n",
        "line = []\n",
        "for m in range(num):\n",
        "  in_mat.append(list(map(int,input().split())))\n",
        "\n",
        "## output \n",
        "## 지나가는 경로 \n",
        "for i in range(num):\n",
        "  for j in range(num):\n",
        "    for k in range(num):\n",
        "      if in_mat[j][i] and in_mat[i][k]:\n",
        "        in_mat[j][k] =1 \n",
        "\n",
        "print(in_mat)"
      ],
      "metadata": {
        "id": "uXV5rdkF-zYo",
        "colab": {
          "base_uri": "https://localhost:8080/"
        },
        "outputId": "99635897-76cd-4cd8-e97a-14347bccb519"
      },
      "execution_count": 6,
      "outputs": [
        {
          "output_type": "stream",
          "name": "stdout",
          "text": [
            "3 \n",
            "0 1 0\n",
            "0 0 1\n",
            "1 0 0\n",
            "[[1, 1, 1], [1, 1, 1], [1, 1, 1]]\n"
          ]
        }
      ]
    }
  ]
}